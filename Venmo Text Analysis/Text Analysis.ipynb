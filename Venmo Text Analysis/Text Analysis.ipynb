{
  "cells": [
    {
      "cell_type": "code",
      "execution_count": null,
      "metadata": {
        "colab": {
          "base_uri": "https://localhost:8080/"
        },
        "id": "G1M4muHbFIyy",
        "outputId": "38976f82-6592-418c-df1c-5e9516188ea7"
      },
      "outputs": [
        {
          "name": "stdout",
          "output_type": "stream",
          "text": [
            "Collecting pyspark\n",
            "  Downloading pyspark-3.5.1.tar.gz (317.0 MB)\n",
            "\u001b[2K     \u001b[90m━━━━━━━━━━━━━━━━━━━━━━━━━━━━━━━━━━━━━━━━\u001b[0m \u001b[32m317.0/317.0 MB\u001b[0m \u001b[31m2.9 MB/s\u001b[0m eta \u001b[36m0:00:00\u001b[0m\n",
            "\u001b[?25h  Preparing metadata (setup.py) ... \u001b[?25l\u001b[?25hdone\n",
            "Requirement already satisfied: py4j==0.10.9.7 in /usr/local/lib/python3.10/dist-packages (from pyspark) (0.10.9.7)\n",
            "Building wheels for collected packages: pyspark\n",
            "  Building wheel for pyspark (setup.py) ... \u001b[?25l\u001b[?25hdone\n",
            "  Created wheel for pyspark: filename=pyspark-3.5.1-py2.py3-none-any.whl size=317488491 sha256=1bb4f3aca09d2d1a1729b3e51b9599050b01a63fc6db2f4f2658939b54c8d939\n",
            "  Stored in directory: /root/.cache/pip/wheels/80/1d/60/2c256ed38dddce2fdd93be545214a63e02fbd8d74fb0b7f3a6\n",
            "Successfully built pyspark\n",
            "Installing collected packages: pyspark\n",
            "Successfully installed pyspark-3.5.1\n"
          ]
        }
      ],
      "source": [
        "pip install pyspark\n"
      ]
    },
    {
      "cell_type": "code",
      "execution_count": null,
      "metadata": {
        "id": "toQooC6VFpvp"
      },
      "outputs": [],
      "source": [
        "from pyspark.sql import SparkSession\n",
        "\n",
        "spark = SparkSession.builder \\\n",
        "    .appName(\"Venmo Transaction Analysis\") \\\n",
        "    .getOrCreate()\n"
      ]
    },
    {
      "cell_type": "markdown",
      "metadata": {
        "id": "zj_GOJIgIsYY"
      },
      "source": [
        "### Text Analysis\n",
        "#### Question 2"
      ]
    },
    {
      "cell_type": "code",
      "execution_count": null,
      "metadata": {
        "colab": {
          "base_uri": "https://localhost:8080/"
        },
        "id": "8qXd9hSUFvU9",
        "outputId": "1d80a42e-7d0a-4acf-b687-3f2e688825ea"
      },
      "outputs": [
        {
          "name": "stdout",
          "output_type": "stream",
          "text": [
            "+-------+-------+----------------+-------------------+------------+-----------+--------------------+\n",
            "|  user1|  user2|transaction_type|           datetime| description|is_business|            story_id|\n",
            "+-------+-------+----------------+-------------------+------------+-----------+--------------------+\n",
            "|1218774|1528945|         payment|2015-11-27 10:48:19|        Uber|      false|5657c473cd03c9af2...|\n",
            "|5109483|4782303|         payment|2015-06-17 11:37:04|      Costco|      false|5580f9702b64f70ab...|\n",
            "|4322148|3392963|         payment|2015-06-19 07:05:31|Sweaty balls|      false|55835ccb1a624b14a...|\n",
            "| 469894|1333620|          charge|2016-06-03 23:34:13|          🎥|      false|5751b185cd03c9af2...|\n",
            "|2960727|3442373|         payment|2016-05-29 23:23:42|           ⚡|      false|574b178ecd03c9af2...|\n",
            "+-------+-------+----------------+-------------------+------------+-----------+--------------------+\n",
            "only showing top 5 rows\n",
            "\n",
            "+----------+---------+---------+--------+------+--------------+-----------+-----+---------------+---------+\n",
            "|    People|     Food|    Event|Activity|Travel|Transportation|    Utility| Cash|Illegal/Sarcasm|@dropdown|\n",
            "+----------+---------+---------+--------+------+--------------+-----------+-----+---------------+---------+\n",
            "|    friend|     food| birthday|    ball| beach|          lyft|       bill| atm |      addiction|      NaN|\n",
            "|friendship|      bbq|christmas|    boat| place|          uber|      cable|bank |           drug|      NaN|\n",
            "|      baby|     bean|    happy|     bar|    la|           cab|        fee|cash |          wangs|      NaN|\n",
            "|       boy|    latte|     bday|    book| world|           bus|   electric|money|           weed|      NaN|\n",
            "|      girl|breakfast|  wedding|    club| hotel|           car|electricity| buck|           anal|      NaN|\n",
            "+----------+---------+---------+--------+------+--------------+-----------+-----+---------------+---------+\n",
            "only showing top 5 rows\n",
            "\n",
            "+-----+------+----+--------+--------------+------+-------+\n",
            "|Event|Travel|Food|Activity|Transportation|People|Utility|\n",
            "+-----+------+----+--------+--------------+------+-------+\n",
            "| 🇦🇺|    🏔|  🍇|      👾|            🚄|    😀|      ⚡|\n",
            "| 🇫🇷|     ⛰|  🍈|      🕴|            🚅|    😃|     💡|\n",
            "|   🎂|    🌋|  🍉|      🎪|            🚆|    😄|     🔌|\n",
            "|   🛍|    🗻|  🍊|      🎭|            🚇|    😁|     📺|\n",
            "| 🇨🇦|    🏕|  🍋|      🎨|            🚈|    😆|     🔌|\n",
            "+-----+------+----+--------+--------------+------+-------+\n",
            "only showing top 5 rows\n",
            "\n"
          ]
        }
      ],
      "source": [
        "from pyspark.sql import SparkSession\n",
        "import pandas as pd\n",
        "\n",
        "# Initialize Spark session\n",
        "spark = SparkSession.builder.appName(\"Venmo Transaction Analysis\").getOrCreate()\n",
        "\n",
        "# Load the Parquet file using pandas to ensure compatibility\n",
        "try:\n",
        "    sample_df = spark.read.parquet(\"VenmoSample.snappy.parquet\")\n",
        "except Exception as e:\n",
        "    print(f\"Failed to load Parquet file: {e}\")\n",
        "    # Try loading as a pandas DataFrame and then convert\n",
        "    sample_df_pd = pd.read_parquet(\"VenmoSample.snappy.parquet\")\n",
        "    sample_df = spark.createDataFrame(sample_df_pd)\n",
        "\n",
        "# Load the dictionaries\n",
        "text_dict_pd = pd.read_excel(\"Venmo Word Classification Dictonary BAX-423 (1).xlsx\")\n",
        "emoji_dict_pd = pd.read_csv(\"Venmo_Emoji_Classification_Dictionary.csv\")\n",
        "\n",
        "# Convert pandas DataFrame to Spark DataFrame\n",
        "text_dict = spark.createDataFrame(text_dict_pd)\n",
        "emoji_dict = spark.createDataFrame(emoji_dict_pd)\n",
        "\n",
        "# Display data to ensure it's loaded correctly\n",
        "sample_df.show(5)\n",
        "text_dict.show(5)\n",
        "emoji_dict.show(5)\n"
      ]
    },
    {
      "cell_type": "code",
      "execution_count": null,
      "metadata": {
        "colab": {
          "base_uri": "https://localhost:8080/"
        },
        "id": "CaIcFl6vPgkg",
        "outputId": "326ec5c9-3616-49c6-a3cc-c9c2088391f3"
      },
      "outputs": [
        {
          "name": "stdout",
          "output_type": "stream",
          "text": [
            "+-------+-------+----------------+-------------------+------------+-----------+--------------------+\n",
            "|  user1|  user2|transaction_type|           datetime| description|is_business|            story_id|\n",
            "+-------+-------+----------------+-------------------+------------+-----------+--------------------+\n",
            "|1218774|1528945|         payment|2015-11-27 10:48:19|        Uber|      false|5657c473cd03c9af2...|\n",
            "|5109483|4782303|         payment|2015-06-17 11:37:04|      Costco|      false|5580f9702b64f70ab...|\n",
            "|4322148|3392963|         payment|2015-06-19 07:05:31|Sweaty balls|      false|55835ccb1a624b14a...|\n",
            "| 469894|1333620|          charge|2016-06-03 23:34:13|          🎥|      false|5751b185cd03c9af2...|\n",
            "|2960727|3442373|         payment|2016-05-29 23:23:42|           ⚡|      false|574b178ecd03c9af2...|\n",
            "+-------+-------+----------------+-------------------+------------+-----------+--------------------+\n",
            "only showing top 5 rows\n",
            "\n",
            "+----------+---------+---------+--------+------+--------------+-----------+-----+---------------+---------+\n",
            "|    People|     Food|    Event|Activity|Travel|Transportation|    Utility| Cash|Illegal/Sarcasm|@dropdown|\n",
            "+----------+---------+---------+--------+------+--------------+-----------+-----+---------------+---------+\n",
            "|    friend|     food| birthday|    ball| beach|          lyft|       bill| atm |      addiction|      NaN|\n",
            "|friendship|      bbq|christmas|    boat| place|          uber|      cable|bank |           drug|      NaN|\n",
            "|      baby|     bean|    happy|     bar|    la|           cab|        fee|cash |          wangs|      NaN|\n",
            "|       boy|    latte|     bday|    book| world|           bus|   electric|money|           weed|      NaN|\n",
            "|      girl|breakfast|  wedding|    club| hotel|           car|electricity| buck|           anal|      NaN|\n",
            "+----------+---------+---------+--------+------+--------------+-----------+-----+---------------+---------+\n",
            "only showing top 5 rows\n",
            "\n",
            "+-----+------+----+--------+--------------+------+-------+\n",
            "|Event|Travel|Food|Activity|Transportation|People|Utility|\n",
            "+-----+------+----+--------+--------------+------+-------+\n",
            "| 🇦🇺|    🏔|  🍇|      👾|            🚄|    😀|      ⚡|\n",
            "| 🇫🇷|     ⛰|  🍈|      🕴|            🚅|    😃|     💡|\n",
            "|   🎂|    🌋|  🍉|      🎪|            🚆|    😄|     🔌|\n",
            "|   🛍|    🗻|  🍊|      🎭|            🚇|    😁|     📺|\n",
            "| 🇨🇦|    🏕|  🍋|      🎨|            🚈|    😆|     🔌|\n",
            "+-----+------+----+--------+--------------+------+-------+\n",
            "only showing top 5 rows\n",
            "\n",
            "+--------+-------+----------------+-------------------+-----------------------------------------------------------------------------------------------------------------------------------------------------------------------------------------------------------------------------------------------------------------------------------------------+-----------+------------------------+-------------------------------+----------------+\n",
            "|user1   |user2  |transaction_type|datetime           |description                                                                                                                                                                                                                                                                                    |is_business|story_id                |TextCategories                 |EmojiCategories |\n",
            "+--------+-------+----------------+-------------------+-----------------------------------------------------------------------------------------------------------------------------------------------------------------------------------------------------------------------------------------------------------------------------------------------+-----------+------------------------+-------------------------------+----------------+\n",
            "|1218774 |1528945|payment         |2015-11-27 10:48:19|Uber                                                                                                                                                                                                                                                                                           |false      |5657c473cd03c9af22cff874|[Transportation]               |[]              |\n",
            "|5109483 |4782303|payment         |2015-06-17 11:37:04|Costco                                                                                                                                                                                                                                                                                         |false      |5580f9702b64f70ab0114e94|[Food]                         |[]              |\n",
            "|4322148 |3392963|payment         |2015-06-19 07:05:31|Sweaty balls                                                                                                                                                                                                                                                                                   |false      |55835ccb1a624b14ac62cef4|[Illegal/Sarcasm]              |[]              |\n",
            "|469894  |1333620|charge          |2016-06-03 23:34:13|🎥                                                                                                                                                                                                                                                                                             |false      |5751b185cd03c9af224c0d17|[]                             |[Event]         |\n",
            "|2960727 |3442373|payment         |2016-05-29 23:23:42|⚡                                                                                                                                                                                                                                                                                              |false      |574b178ecd03c9af22cf67f4|[]                             |[Utility]       |\n",
            "|3977544 |2709470|payment         |2016-09-29 22:12:07|Chipotlaid                                                                                                                                                                                                                                                                                     |false      |57ed2f4723e064eac0879304|[]                             |[]              |\n",
            "|3766386 |4209061|payment         |2016-05-20 10:31:15|kitchen counter                                                                                                                                                                                                                                                                                |false      |573e8503cd03c9af2200360e|[Utility]                      |[]              |\n",
            "|730075  |804466 |payment         |2016-05-26 04:46:45|Food                                                                                                                                                                                                                                                                                           |false      |57461d46cd03c9af227dade4|[Food]                         |[]              |\n",
            "|5221751 |4993533|payment         |2016-07-14 22:53:49|Zaxby                                                                                                                                                                                                                                                                                          |false      |5787b58d23e064eac0126cfa|[]                             |[]              |\n",
            "|6843582 |7308338|payment         |2016-08-31 10:32:46|Fan sucks                                                                                                                                                                                                                                                                                      |false      |57c64fdf23e064eac0e88f69|[People]                       |[]              |\n",
            "|5317324 |3942984|payment         |2016-01-04 09:11:25|👠                                                                                                                                                                                                                                                                                             |false      |5689c6bdcd03c9af224a8cbc|[]                             |[]              |\n",
            "|1134661 |1556430|payment         |2015-10-09 01:53:52|Thanks babe                                                                                                                                                                                                                                                                                    |false      |5616bbc0cd03c9af22ab332f|[People, People]               |[]              |\n",
            "|4238868 |4879587|payment         |2015-10-04 08:28:01|🍺                                                                                                                                                                                                                                                                                             |false      |561080a1cd03c9af226311e2|[]                             |[Food]          |\n",
            "|11719500|8702716|payment         |2016-07-07 21:40:39|⛽                                                                                                                                                                                                                                                                                              |false      |577e69e723e064eac070091a|[]                             |[Transportation]|\n",
            "|3625798 |5692302|payment         |2016-10-16 14:43:41|Hey man  it's been a long time since I've last seen you. Regardless  time spent with you and the boys is time well spent. I wouldn't trade it for anyone else  and for that I can never repay you. Anyways  enjoy this dollar you slimy fuck  I wouldn't want to waste my pennies any other way|false      |58032fad23e064eac0b897f4|[People, Cash, Illegal/Sarcasm]|[]              |\n",
            "|613908  |3045405|charge          |2016-05-07 06:42:17|Getaway car                                                                                                                                                                                                                                                                                    |false      |572d2bd9cd03c9af22d0be94|[Activity, Transportation]     |[]              |\n",
            "|4682257 |1870271|payment         |2016-02-24 09:14:12|🔮 gypsy things                                                                                                                                                                                                                                                                                |false      |56cd03e4cd03c9af225aabfe|[]                             |[]              |\n",
            "|9414481 |2869012|payment         |2016-04-09 09:19:46|🔴                                                                                                                                                                                                                                                                                             |false      |570866c2cd03c9af223706e1|[]                             |[]              |\n",
            "|241386  |2580543|payment         |2015-05-17 06:00:19|Furniture                                                                                                                                                                                                                                                                                      |false      |5557cc0407f81c33ec77d16f|[Utility]                      |[]              |\n",
            "|656477  |656214 |charge          |2013-12-14 22:43:27|bed bath mostly beyond                                                                                                                                                                                                                                                                         |false      |52ac6e93d56b6bac5c6a8ec2|[Utility]                      |[]              |\n",
            "+--------+-------+----------------+-------------------+-----------------------------------------------------------------------------------------------------------------------------------------------------------------------------------------------------------------------------------------------------------------------------------------------+-----------+------------------------+-------------------------------+----------------+\n",
            "only showing top 20 rows\n",
            "\n",
            "Percentage of emoji-only transactions: 62.47%\n"
          ]
        }
      ],
      "source": [
        "from pyspark.sql import SparkSession\n",
        "import pandas as pd\n",
        "from pyspark.sql.functions import col, udf, array, array_contains, lit\n",
        "from pyspark.sql.types import ArrayType, StringType\n",
        "\n",
        "# Initialize Spark session\n",
        "spark = SparkSession.builder.appName(\"Venmo Transaction Analysis\").getOrCreate()\n",
        "\n",
        "# Load the sample data\n",
        "sample_df = spark.read.parquet(\"VenmoSample.snappy.parquet\")\n",
        "\n",
        "# Load the dictionaries\n",
        "text_dict_pd = pd.read_excel(\"Venmo Word Classification Dictonary BAX-423 (1).xlsx\")\n",
        "emoji_dict_pd = pd.read_csv(\"Venmo_Emoji_Classification_Dictionary.csv\")\n",
        "\n",
        "# Convert pandas DataFrame to Spark DataFrame\n",
        "text_dict = spark.createDataFrame(text_dict_pd)\n",
        "emoji_dict = spark.createDataFrame(emoji_dict_pd)\n",
        "\n",
        "# Display the data to verify columns\n",
        "sample_df.show(5)\n",
        "text_dict.show(5)\n",
        "emoji_dict.show(5)\n",
        "\n",
        "# Extract words and categories from text dictionary\n",
        "text_dict_broadcast = {}\n",
        "for column in text_dict.columns:\n",
        "    words = text_dict.select(column).rdd.flatMap(lambda x: x).collect()\n",
        "    for word in words:\n",
        "        if isinstance(word, str) and word.strip():\n",
        "            text_dict_broadcast[word.strip().lower()] = column\n",
        "\n",
        "# Extract emojis and categories from emoji dictionary\n",
        "emoji_dict_broadcast = {}\n",
        "for column in emoji_dict.columns:\n",
        "    emojis = emoji_dict.select(column).rdd.flatMap(lambda x: x).collect()\n",
        "    for emoji in emojis:\n",
        "        if isinstance(emoji, str) and emoji.strip():\n",
        "            emoji_dict_broadcast[emoji.strip()] = column\n",
        "\n",
        "# UDF to classify text messages\n",
        "def classify_text(message):\n",
        "    words = message.split()\n",
        "    categories = [text_dict_broadcast.get(word.lower()) for word in words if text_dict_broadcast.get(word.lower())]\n",
        "    return categories\n",
        "\n",
        "# UDF to classify emoji messages\n",
        "def classify_emoji(message):\n",
        "    emojis = [char for char in message if char in emoji_dict_broadcast]\n",
        "    categories = [emoji_dict_broadcast[char] for char in emojis]\n",
        "    return categories\n",
        "\n",
        "classify_text_udf = udf(lambda msg: classify_text(msg), ArrayType(StringType()))\n",
        "classify_emoji_udf = udf(lambda msg: classify_emoji(msg), ArrayType(StringType()))\n",
        "\n",
        "# Apply the UDFs to classify messages\n",
        "classified_df = sample_df.withColumn(\"TextCategories\", classify_text_udf(col(\"description\"))) \\\n",
        "                         .withColumn(\"EmojiCategories\", classify_emoji_udf(col(\"description\")))\n",
        "\n",
        "classified_df.show(truncate=False)\n",
        "\n",
        "# Calculate the percentage of emoji-only transactions\n",
        "emoji_only_df = classified_df.filter((col(\"TextCategories\").isNull() | (col(\"TextCategories\") == array().cast(\"array<string>\"))) & (col(\"EmojiCategories\").isNotNull()))\n",
        "total_transactions = classified_df.count()\n",
        "emoji_only_transactions = emoji_only_df.count()\n",
        "emoji_only_percentage = (emoji_only_transactions / total_transactions) * 100\n",
        "\n",
        "print(f\"Percentage of emoji-only transactions: {emoji_only_percentage:.2f}%\")\n"
      ]
    },
    {
      "cell_type": "code",
      "execution_count": null,
      "metadata": {
        "colab": {
          "base_uri": "https://localhost:8080/"
        },
        "id": "lvANtq8uQBFg",
        "outputId": "7b91df23-3d8f-4074-b3f3-862df6ed5227"
      },
      "outputs": [
        {
          "name": "stdout",
          "output_type": "stream",
          "text": [
            "+--------------+-------+\n",
            "|         Emoji|  count|\n",
            "+--------------+-------+\n",
            "|          Food|1744390|\n",
            "|        People|1011889|\n",
            "|       Utility| 434942|\n",
            "|      Activity| 423988|\n",
            "|Transportation| 258830|\n",
            "+--------------+-------+\n",
            "\n",
            "+-------------+-------+\n",
            "|EmojiCategory|  count|\n",
            "+-------------+-------+\n",
            "|         Food|1744390|\n",
            "|       People|1011889|\n",
            "|      Utility| 434942|\n",
            "+-------------+-------+\n",
            "\n"
          ]
        }
      ],
      "source": [
        "from pyspark.sql.functions import explode, desc\n",
        "\n",
        "# Explode the EmojiCategories column to get individual emojis\n",
        "exploded_emojis_df = classified_df.withColumn(\"Emoji\", explode(col(\"EmojiCategories\")))\n",
        "\n",
        "# Count the occurrences of each emoji\n",
        "emoji_counts_df = exploded_emojis_df.groupBy(\"Emoji\").count().orderBy(desc(\"count\"))\n",
        "\n",
        "# Show the top 5 most popular emojis\n",
        "top_5_emojis = emoji_counts_df.limit(5)\n",
        "top_5_emojis.show()\n",
        "\n",
        "# Explode the EmojiCategories column to get individual categories\n",
        "exploded_categories_df = classified_df.withColumn(\"EmojiCategory\", explode(col(\"EmojiCategories\")))\n",
        "\n",
        "# Count the occurrences of each emoji category\n",
        "category_counts_df = exploded_categories_df.groupBy(\"EmojiCategory\").count().orderBy(desc(\"count\"))\n",
        "\n",
        "# Show the top 3 most popular emoji categories\n",
        "top_3_categories = category_counts_df.limit(3)\n",
        "top_3_categories.show()\n"
      ]
    },
    {
      "cell_type": "markdown",
      "metadata": {
        "id": "U8VDbIpxSXZ1"
      },
      "source": [
        "#### Question 3"
      ]
    },
    {
      "cell_type": "code",
      "execution_count": null,
      "metadata": {
        "colab": {
          "base_uri": "https://localhost:8080/"
        },
        "id": "zwFZfD9FSO5m",
        "outputId": "2203d2f1-060f-437c-d369-daba0bfb09e1"
      },
      "outputs": [
        {
          "name": "stdout",
          "output_type": "stream",
          "text": [
            "+-----+---------------+-------------+-----------------+------------------+\n",
            "|user1|Category       |CategoryCount|TotalTransactions|Percentage        |\n",
            "+-----+---------------+-------------+-----------------+------------------+\n",
            "|3    |People         |1            |3                |33.33333333333333 |\n",
            "|3    |Utility        |1            |3                |33.33333333333333 |\n",
            "|3    |Food           |1            |3                |33.33333333333333 |\n",
            "|12   |Cash           |3            |9                |33.33333333333333 |\n",
            "|12   |Utility        |2            |9                |22.22222222222222 |\n",
            "|12   |Activity       |2            |9                |22.22222222222222 |\n",
            "|12   |Event          |1            |9                |11.11111111111111 |\n",
            "|12   |Food           |1            |9                |11.11111111111111 |\n",
            "|13   |Transportation |3            |36               |8.333333333333332 |\n",
            "|13   |Event          |3            |36               |8.333333333333332 |\n",
            "|13   |Cash           |1            |36               |2.7777777777777777|\n",
            "|13   |Travel         |1            |36               |2.7777777777777777|\n",
            "|13   |Activity       |4            |36               |11.11111111111111 |\n",
            "|13   |People         |8            |36               |22.22222222222222 |\n",
            "|13   |Food           |12           |36               |33.33333333333333 |\n",
            "|13   |Utility        |3            |36               |8.333333333333332 |\n",
            "|13   |Illegal/Sarcasm|1            |36               |2.7777777777777777|\n",
            "|16   |Food           |7            |11               |63.63636363636363 |\n",
            "|16   |Activity       |2            |11               |18.181818181818183|\n",
            "|16   |Travel         |1            |11               |9.090909090909092 |\n",
            "+-----+---------------+-------------+-----------------+------------------+\n",
            "only showing top 20 rows\n",
            "\n"
          ]
        }
      ],
      "source": [
        "from pyspark.sql.functions import explode, concat_ws, col, lit, count\n",
        "\n",
        "# Explode TextCategories and EmojiCategories to get individual categories\n",
        "exploded_text_df = classified_df.withColumn(\"Category\", explode(col(\"TextCategories\")))\n",
        "exploded_emoji_df = classified_df.withColumn(\"Category\", explode(col(\"EmojiCategories\")))\n",
        "\n",
        "# Combine the exploded DataFrames\n",
        "combined_df = exploded_text_df.union(exploded_emoji_df)\n",
        "\n",
        "# Group by user and category to count the number of transactions per category for each user\n",
        "user_category_counts_df = combined_df.groupBy(\"user1\", \"Category\").agg(count(\"*\").alias(\"CategoryCount\"))\n",
        "\n",
        "# Calculate the total number of transactions for each user\n",
        "total_transactions_df = combined_df.groupBy(\"user1\").agg(count(\"*\").alias(\"TotalTransactions\"))\n",
        "\n",
        "# Join the category counts with the total transactions\n",
        "user_profile_df = user_category_counts_df.join(total_transactions_df, on=\"user1\")\n",
        "\n",
        "# Calculate the percentage of transactions in each category for each user\n",
        "user_profile_df = user_profile_df.withColumn(\"Percentage\", (col(\"CategoryCount\") / col(\"TotalTransactions\")) * 100)\n",
        "\n",
        "# Display the spending behavior profile for each user\n",
        "user_profile_df.show(truncate=False)\n"
      ]
    },
    {
      "cell_type": "markdown",
      "metadata": {
        "id": "nJC1v2TFVWe6"
      },
      "source": [
        "#### Question 4"
      ]
    },
    {
      "cell_type": "code",
      "execution_count": null,
      "metadata": {
        "colab": {
          "base_uri": "https://localhost:8080/",
          "height": 1000
        },
        "id": "i7v2jwJ1VU1L",
        "outputId": "9550b502-940e-4aa1-d734-215f3507a301"
      },
      "outputs": [
        {
          "name": "stdout",
          "output_type": "stream",
          "text": [
            "    MonthInterval         Category     Average  StandardDeviation\n",
            "0               0           People   88.095238          20.892772\n",
            "1               0          Utility   93.750000          12.500000\n",
            "2               9   Transportation   50.000000                NaN\n",
            "3               3          Utility   76.666667          32.489314\n",
            "4               4          Utility  100.000000                NaN\n",
            "5               3             Food   50.000000                NaN\n",
            "6               5         Activity   50.000000                NaN\n",
            "7               5           People  100.000000                NaN\n",
            "8               6             Food  100.000000                NaN\n",
            "9              15             Food  100.000000                NaN\n",
            "10             19           People  100.000000                NaN\n",
            "11              0            Event   75.000000          35.355339\n",
            "12             11           People   50.000000                NaN\n",
            "13             10           People   75.000000          35.355339\n",
            "14              9          Utility   50.000000                NaN\n",
            "15              2         Activity  100.000000                NaN\n",
            "16             23           People   33.333333                NaN\n",
            "17             30         Activity  100.000000                NaN\n",
            "18             12          Utility   50.000000                NaN\n",
            "19              5          Utility  100.000000                NaN\n",
            "20             20  Illegal/Sarcasm  100.000000                NaN\n",
            "21              4             Food   66.666667          28.867513\n",
            "22             13         Activity   33.333333                NaN\n",
            "23             13           People   33.333333                NaN\n",
            "24             18           People  100.000000                NaN\n",
            "25             20             Food  100.000000                NaN\n",
            "26              4         Activity   50.000000                NaN\n",
            "27              3             Cash   33.333333                NaN\n",
            "28              1             Food   50.000000                NaN\n",
            "29              1           People   75.000000          35.355339\n",
            "30             14   Transportation  100.000000                NaN\n",
            "31              2  Illegal/Sarcasm  100.000000                NaN\n",
            "32              0   Transportation   83.333333          28.867513\n",
            "33              2           People  100.000000                NaN\n",
            "34             17           People   25.000000                NaN\n",
            "35             12            Event   50.000000                NaN\n",
            "36             13  Illegal/Sarcasm  100.000000                NaN\n",
            "37             17         Activity   25.000000                NaN\n",
            "38              8   Transportation  100.000000                NaN\n",
            "39             10             Food   50.000000                NaN\n",
            "40             16             Food  100.000000                NaN\n",
            "41             17             Food   50.000000                NaN\n",
            "42             20           People  100.000000                NaN\n",
            "43              3         Activity  100.000000                NaN\n",
            "44             14           People  100.000000                NaN\n",
            "45              0             Cash   25.000000           0.000000\n",
            "46             20   Transportation  100.000000                NaN\n",
            "47             11         Activity   50.000000                NaN\n",
            "48              3            Event   50.000000                NaN\n",
            "49             11          Utility  100.000000                NaN\n",
            "50              5             Food   75.000000          35.355339\n",
            "51              3           People   61.111111          34.694433\n",
            "52              0         Activity   75.000000          35.355339\n",
            "53             23             Food   66.666667                NaN\n",
            "54             11             Food  100.000000                NaN\n",
            "55              0             Food  100.000000           0.000000\n",
            "56             13   Transportation   33.333333                NaN\n",
            "57             13             Food  100.000000                NaN\n",
            "58              0           Travel   61.111111          34.694433\n",
            "59              4  Illegal/Sarcasm   50.000000                NaN\n",
            "Categories: ['People' 'Utility' 'Transportation' 'Food' 'Activity' 'Event'\n",
            " 'Illegal/Sarcasm' 'Cash' 'Travel']\n",
            "No valid data for category: People\n",
            "No valid data for category: Utility\n",
            "No valid data for category: Transportation\n",
            "No valid data for category: Food\n",
            "No valid data for category: Activity\n",
            "No valid data for category: Event\n",
            "No valid data for category: Illegal/Sarcasm\n",
            "No valid data for category: Cash\n"
          ]
        },
        {
          "data": {
            "image/png": "[encoded data removed]",
            "text/plain": [
              "<Figure size 1400x800 with 1 Axes>"
            ]
          },
          "metadata": {},
          "output_type": "display_data"
        }
      ],
      "source": [
        "from pyspark.sql import Window\n",
        "from pyspark.sql.functions import col, min, months_between, floor, count, avg, stddev, explode\n",
        "import pandas as pd\n",
        "import matplotlib.pyplot as plt\n",
        "\n",
        "# Ensure unique names after join\n",
        "classified_df = classified_df.withColumnRenamed(\"MonthInterval\", \"classified_MonthInterval\")\n",
        "sample_df = sample_df.withColumnRenamed(\"MonthInterval\", \"sample_MonthInterval\")\n",
        "\n",
        "# Join classified_df with sample_df to get MonthInterval\n",
        "classified_df = classified_df.join(sample_df.select(\"user1\", \"datetime\", \"sample_MonthInterval\"), on=[\"user1\", \"datetime\"])\n",
        "\n",
        "# Rename sample_MonthInterval back to MonthInterval after join\n",
        "classified_df = classified_df.withColumnRenamed(\"sample_MonthInterval\", \"MonthInterval\")\n",
        "\n",
        "# Explode TextCategories and EmojiCategories to get individual categories\n",
        "exploded_text_df = classified_df.withColumn(\"Category\", explode(col(\"TextCategories\")))\n",
        "exploded_emoji_df = classified_df.withColumn(\"Category\", explode(col(\"EmojiCategories\")))\n",
        "\n",
        "# Combine the exploded DataFrames\n",
        "combined_df = exploded_text_df.union(exploded_emoji_df)\n",
        "\n",
        "# Group by user, month interval, and category to count the number of transactions per category for each user\n",
        "user_monthly_category_counts_df = combined_df.groupBy(\"user1\", \"MonthInterval\", \"Category\").agg(count(\"*\").alias(\"CategoryCount\"))\n",
        "\n",
        "# Calculate the total number of transactions for each user at each month interval\n",
        "total_monthly_transactions_df = combined_df.groupBy(\"user1\", \"MonthInterval\").agg(count(\"*\").alias(\"TotalTransactions\"))\n",
        "\n",
        "# Join the category counts with the total transactions\n",
        "user_monthly_profile_df = user_monthly_category_counts_df.join(total_monthly_transactions_df, on=[\"user1\", \"MonthInterval\"])\n",
        "\n",
        "# Calculate the percentage of transactions in each category for each user at each month interval\n",
        "user_monthly_profile_df = user_monthly_profile_df.withColumn(\"Percentage\", (col(\"CategoryCount\") / col(\"TotalTransactions\")) * 100)\n",
        "\n",
        "# Aggregate to compute the average and standard deviation for each category at each month interval\n",
        "avg_stddev_profile_df = user_monthly_profile_df.groupBy(\"MonthInterval\", \"Category\").agg(\n",
        "    avg(\"Percentage\").alias(\"Average\"),\n",
        "    stddev(\"Percentage\").alias(\"StandardDeviation\")\n",
        ")\n",
        "\n",
        "# Collect the results to plot\n",
        "results = avg_stddev_profile_df.collect()\n",
        "\n",
        "# Convert to a pandas DataFrame for plotting\n",
        "df = pd.DataFrame(results, columns=[\"MonthInterval\", \"Category\", \"Average\", \"StandardDeviation\"])\n",
        "\n",
        "# Debugging: Print the DataFrame to verify the data\n",
        "print(df)\n",
        "\n",
        "# Check for categories with no data and handle them\n",
        "categories = df[\"Category\"].unique()\n",
        "print(\"Categories:\", categories)\n",
        "\n",
        "# Plot the results\n",
        "plt.figure(figsize=(14, 8))\n",
        "\n",
        "for category in categories:\n",
        "    category_df = df[df[\"Category\"] == category]\n",
        "    if not category_df.empty and category_df[\"Average\"].notnull().all() and category_df[\"StandardDeviation\"].notnull().all():\n",
        "        plt.errorbar(category_df[\"MonthInterval\"], category_df[\"Average\"], yerr=2*category_df[\"StandardDeviation\"], label=category)\n",
        "    else:\n",
        "        print(f\"No valid data for category: {category}\")\n",
        "\n",
        "plt.xlabel(\"Month Interval\")\n",
        "plt.ylabel(\"Percentage\")\n",
        "plt.title(\"Average User Spending Profile Over Time\")\n",
        "plt.legend()\n",
        "plt.grid(True)\n",
        "plt.show()\n"
      ]
    }
  ],
  "metadata": {
    "colab": {
      "provenance": []
    },
    "kernelspec": {
      "display_name": "Python 3",
      "name": "python3"
    },
    "language_info": {
      "name": "python"
    }
  },
  "nbformat": 4,
  "nbformat_minor": 0
}
