{
  "nbformat": 4,
  "nbformat_minor": 0,
  "metadata": {
    "colab": {
      "provenance": []
    },
    "kernelspec": {
      "name": "python3",
      "display_name": "Python 3"
    },
    "language_info": {
      "name": "python"
    }
  },
  "cells": [
    {
      "cell_type": "markdown",
      "source": [
        "# 1. Setting up your Spark instance"
      ],
      "metadata": {
        "id": "To8NoOLf4DoR"
      }
    },
    {
      "cell_type": "code",
      "execution_count": 1,
      "metadata": {
        "colab": {
          "base_uri": "https://localhost:8080/"
        },
        "id": "N6NgEu3g0Bdc",
        "outputId": "db6245da-e7d3-4a67-8bc7-fb0e3d8f09cf"
      },
      "outputs": [
        {
          "output_type": "stream",
          "name": "stdout",
          "text": [
            "Collecting pyspark\n",
            "  Downloading pyspark-3.5.1.tar.gz (317.0 MB)\n",
            "\u001b[2K     \u001b[90m━━━━━━━━━━━━━━━━━━━━━━━━━━━━━━━━━━━━━━━━\u001b[0m \u001b[32m317.0/317.0 MB\u001b[0m \u001b[31m4.3 MB/s\u001b[0m eta \u001b[36m0:00:00\u001b[0m\n",
            "\u001b[?25h  Preparing metadata (setup.py) ... \u001b[?25l\u001b[?25hdone\n",
            "Requirement already satisfied: py4j==0.10.9.7 in /usr/local/lib/python3.10/dist-packages (from pyspark) (0.10.9.7)\n",
            "Building wheels for collected packages: pyspark\n",
            "  Building wheel for pyspark (setup.py) ... \u001b[?25l\u001b[?25hdone\n",
            "  Created wheel for pyspark: filename=pyspark-3.5.1-py2.py3-none-any.whl size=317488491 sha256=f31336abd79f323434aedbe92bfb0be76444406a2ab20f29d7cf88f37c079dc0\n",
            "  Stored in directory: /root/.cache/pip/wheels/80/1d/60/2c256ed38dddce2fdd93be545214a63e02fbd8d74fb0b7f3a6\n",
            "Successfully built pyspark\n",
            "Installing collected packages: pyspark\n",
            "Successfully installed pyspark-3.5.1\n"
          ]
        }
      ],
      "source": [
        "# Run below commands\n",
        "!apt-get install openjdk-8-jdk-headless -qq > /dev/null #Install java\n",
        "!wget -q https://archive.apache.org/dist/spark/spark-3.4.1/spark-3.4.1-bin-hadoop3.tgz ## Install Apache Spark\n",
        "!tar xf spark-3.4.1-bin-hadoop3.tgz\n",
        "!pip install -q findspark\n",
        "!pip install pyspark"
      ]
    },
    {
      "cell_type": "code",
      "source": [
        "!pip install pyspark==3.4.1 # make sure spark and pyspark versions are the same"
      ],
      "metadata": {
        "colab": {
          "base_uri": "https://localhost:8080/"
        },
        "id": "NmqNZ_6sDBNU",
        "outputId": "899b1db4-d4ea-4003-bf9e-0b8d0684049a"
      },
      "execution_count": 2,
      "outputs": [
        {
          "output_type": "stream",
          "name": "stdout",
          "text": [
            "Collecting pyspark==3.4.1\n",
            "  Downloading pyspark-3.4.1.tar.gz (310.8 MB)\n",
            "\u001b[2K     \u001b[90m━━━━━━━━━━━━━━━━━━━━━━━━━━━━━━━━━━━━━━━━\u001b[0m \u001b[32m310.8/310.8 MB\u001b[0m \u001b[31m2.4 MB/s\u001b[0m eta \u001b[36m0:00:00\u001b[0m\n",
            "\u001b[?25h  Preparing metadata (setup.py) ... \u001b[?25l\u001b[?25hdone\n",
            "Requirement already satisfied: py4j==0.10.9.7 in /usr/local/lib/python3.10/dist-packages (from pyspark==3.4.1) (0.10.9.7)\n",
            "Building wheels for collected packages: pyspark\n",
            "  Building wheel for pyspark (setup.py) ... \u001b[?25l\u001b[?25hdone\n",
            "  Created wheel for pyspark: filename=pyspark-3.4.1-py2.py3-none-any.whl size=311285388 sha256=551d12a2c2ff427afb56017ebe49b87f0d1d7a43621a6427f37641733c902dfe\n",
            "  Stored in directory: /root/.cache/pip/wheels/0d/77/a3/ff2f74cc9ab41f8f594dabf0579c2a7c6de920d584206e0834\n",
            "Successfully built pyspark\n",
            "Installing collected packages: pyspark\n",
            "  Attempting uninstall: pyspark\n",
            "    Found existing installation: pyspark 3.5.1\n",
            "    Uninstalling pyspark-3.5.1:\n",
            "      Successfully uninstalled pyspark-3.5.1\n",
            "Successfully installed pyspark-3.4.1\n"
          ]
        }
      ]
    },
    {
      "cell_type": "code",
      "source": [
        "import os\n",
        "from pyspark.sql import SparkSession\n",
        "# Define Java and Spark home path in Google Colab\n",
        "os.environ[\"JAVA_HOME\"] = \"/usr/lib/jvm/java-8-openjdk-amd64\"\n",
        "os.environ[\"SPARK_HOME\"] = \"/content/spark-3.4.1-bin-hadoop3\""
      ],
      "metadata": {
        "id": "gZV2vHe-0Gto"
      },
      "execution_count": 3,
      "outputs": []
    },
    {
      "cell_type": "code",
      "source": [
        "import findspark\n",
        "findspark.init()\n",
        "from pyspark.sql import SparkSession\n",
        "from pyspark import SparkConf, SparkContext\n",
        "from datetime import datetime, date, timedelta\n",
        "from dateutil import relativedelta\n",
        "from pyspark.sql import SQLContext, Row\n",
        "from pyspark.sql.types import *\n",
        "from pyspark.sql.functions import *\n",
        "from pyspark.sql import DataFrame\n",
        "from pyspark.sql.functions import *\n",
        "from pyspark.sql.functions import to_timestamp, to_date\n",
        "from pyspark.sql import functions as F\n",
        "from pyspark.sql.functions import collect_list, collect_set, concat, first, array_distinct, col, size, expr\n",
        "from pyspark.sql import DataFrame\n",
        "from pyspark.sql.functions import max, col\n",
        "from pyspark.sql import functions as F\n",
        "from pyspark.sql.functions import corr\n",
        "from pyspark.sql.window import Window\n",
        "from functools import reduce\n",
        "from pyspark.sql import DataFrame\n",
        "import random"
      ],
      "metadata": {
        "id": "RUo0Hufh0JuY"
      },
      "execution_count": 4,
      "outputs": []
    },
    {
      "cell_type": "code",
      "source": [
        "spark = SparkSession.builder \\\n",
        "    .appName(\"PySpark SQL\") \\\n",
        "    .getOrCreate()\n",
        "\n",
        "# Check if SparkContext is available\n",
        "print(spark.sparkContext)"
      ],
      "metadata": {
        "colab": {
          "base_uri": "https://localhost:8080/"
        },
        "id": "HLfv8_3v1f5b",
        "outputId": "7301d4f5-e3b0-4773-e3af-18a4a66a3571"
      },
      "execution_count": 5,
      "outputs": [
        {
          "output_type": "stream",
          "name": "stdout",
          "text": [
            "<SparkContext master=local[*] appName=PySpark SQL>\n"
          ]
        }
      ]
    },
    {
      "cell_type": "code",
      "source": [
        "co2_emissions = spark\\\n",
        "  .read\\\n",
        "  .option(\"inferSchema\", \"true\")\\\n",
        "  .option(\"header\", \"true\")\\\n",
        "  .csv('/content/drive/MyDrive/Colab Notebooks/CO2 emissions per capita per country.csv')"
      ],
      "metadata": {
        "id": "ZF-19JFq0dec"
      },
      "execution_count": 6,
      "outputs": []
    },
    {
      "cell_type": "code",
      "source": [
        "global_temp = spark\\\n",
        "  .read\\\n",
        "  .option(\"inferSchema\", \"true\")\\\n",
        "  .option(\"header\", \"true\")\\\n",
        "  .csv(\"/content/drive/MyDrive/Colab Notebooks/GlobalLandTemperatures_GlobalLandTemperaturesByCountry.csv\")"
      ],
      "metadata": {
        "id": "gXhrDSb6160U"
      },
      "execution_count": 7,
      "outputs": []
    },
    {
      "cell_type": "code",
      "source": [
        "flightData2015 = spark\\\n",
        "    .read\\\n",
        "    .option(\"inferSchema\", \"true\")\\\n",
        "    .option(\"header\", \"true\")\\\n",
        "    .csv(\"/content/drive/MyDrive/Colab Notebooks/2015-summary.csv\")"
      ],
      "metadata": {
        "id": "1k5NCgxez0hI"
      },
      "execution_count": 8,
      "outputs": []
    },
    {
      "cell_type": "code",
      "source": [
        "flightData2015.take(3)"
      ],
      "metadata": {
        "colab": {
          "base_uri": "https://localhost:8080/"
        },
        "id": "dF6Jso3-1E6O",
        "outputId": "59e148fb-0d0b-4af3-9961-68c4b8905559"
      },
      "execution_count": null,
      "outputs": [
        {
          "output_type": "execute_result",
          "data": {
            "text/plain": [
              "[Row(DEST_COUNTRY_NAME='United States', ORIGIN_COUNTRY_NAME='Romania', count=15),\n",
              " Row(DEST_COUNTRY_NAME='United States', ORIGIN_COUNTRY_NAME='Croatia', count=1),\n",
              " Row(DEST_COUNTRY_NAME='United States', ORIGIN_COUNTRY_NAME='Ireland', count=344)]"
            ]
          },
          "metadata": {},
          "execution_count": 54
        }
      ]
    },
    {
      "cell_type": "code",
      "source": [
        "flightData2015.sort(\"count\").explain()"
      ],
      "metadata": {
        "colab": {
          "base_uri": "https://localhost:8080/"
        },
        "id": "uXR1NRHu1FD6",
        "outputId": "fa2e3917-28d4-4aef-ffc2-74ac432d6bcf"
      },
      "execution_count": null,
      "outputs": [
        {
          "output_type": "stream",
          "name": "stdout",
          "text": [
            "== Physical Plan ==\n",
            "AdaptiveSparkPlan isFinalPlan=false\n",
            "+- Sort [count#46971 ASC NULLS FIRST], true, 0\n",
            "   +- Exchange rangepartitioning(count#46971 ASC NULLS FIRST, 200), ENSURE_REQUIREMENTS, [plan_id=35447]\n",
            "      +- FileScan csv [DEST_COUNTRY_NAME#46969,ORIGIN_COUNTRY_NAME#46970,count#46971] Batched: false, DataFilters: [], Format: CSV, Location: InMemoryFileIndex(1 paths)[file:/content/drive/MyDrive/Colab Notebooks/2015-summary.csv], PartitionFilters: [], PushedFilters: [], ReadSchema: struct<DEST_COUNTRY_NAME:string,ORIGIN_COUNTRY_NAME:string,count:int>\n",
            "\n",
            "\n"
          ]
        }
      ]
    },
    {
      "cell_type": "code",
      "source": [
        "spark.conf.set(\"spark.sql.shuffle.partitions\", \"5\")\n",
        "flightData2015.sort(\"count\").take(2)"
      ],
      "metadata": {
        "colab": {
          "base_uri": "https://localhost:8080/"
        },
        "id": "ozBYjZvz1OOT",
        "outputId": "b89318d0-2bbe-4c5d-8927-7f0cea789995"
      },
      "execution_count": null,
      "outputs": [
        {
          "output_type": "execute_result",
          "data": {
            "text/plain": [
              "[Row(DEST_COUNTRY_NAME='United States', ORIGIN_COUNTRY_NAME='Singapore', count=1),\n",
              " Row(DEST_COUNTRY_NAME='Moldova', ORIGIN_COUNTRY_NAME='United States', count=1)]"
            ]
          },
          "metadata": {},
          "execution_count": 56
        }
      ]
    },
    {
      "cell_type": "code",
      "source": [
        "flightData2015.createOrReplaceTempView(\"flight_data_2015\")"
      ],
      "metadata": {
        "id": "bZQxvd721Vtv"
      },
      "execution_count": null,
      "outputs": []
    },
    {
      "cell_type": "code",
      "source": [
        "sqlWay = spark.sql(\"\"\"\n",
        "  SELECT DEST_COUNTRY_NAME, count(1)\n",
        "  FROM flight_data_2015\n",
        "  GROUP BY DEST_COUNTRY_NAME\n",
        "  \"\"\")"
      ],
      "metadata": {
        "id": "pfXKfVGF1aEp"
      },
      "execution_count": null,
      "outputs": []
    },
    {
      "cell_type": "code",
      "source": [
        "dataFrameWay = flightData2015\\\n",
        "    .groupBy(\"DEST_COUNTRY_NAME\")\\\n",
        "    .count()"
      ],
      "metadata": {
        "id": "Mt_tl1q61aG8"
      },
      "execution_count": null,
      "outputs": []
    },
    {
      "cell_type": "code",
      "source": [
        "sqlWay.explain()\n",
        "dataFrameWay.explain()"
      ],
      "metadata": {
        "colab": {
          "base_uri": "https://localhost:8080/"
        },
        "id": "fdJ-3gVY1aJB",
        "outputId": "b82fc884-af44-4307-ef4c-fa8acaddca6b"
      },
      "execution_count": null,
      "outputs": [
        {
          "output_type": "stream",
          "name": "stdout",
          "text": [
            "== Physical Plan ==\n",
            "AdaptiveSparkPlan isFinalPlan=false\n",
            "+- HashAggregate(keys=[DEST_COUNTRY_NAME#46969], functions=[count(1)])\n",
            "   +- Exchange hashpartitioning(DEST_COUNTRY_NAME#46969, 5), ENSURE_REQUIREMENTS, [plan_id=35469]\n",
            "      +- HashAggregate(keys=[DEST_COUNTRY_NAME#46969], functions=[partial_count(1)])\n",
            "         +- FileScan csv [DEST_COUNTRY_NAME#46969] Batched: false, DataFilters: [], Format: CSV, Location: InMemoryFileIndex(1 paths)[file:/content/drive/MyDrive/Colab Notebooks/2015-summary.csv], PartitionFilters: [], PushedFilters: [], ReadSchema: struct<DEST_COUNTRY_NAME:string>\n",
            "\n",
            "\n",
            "== Physical Plan ==\n",
            "AdaptiveSparkPlan isFinalPlan=false\n",
            "+- HashAggregate(keys=[DEST_COUNTRY_NAME#46969], functions=[count(1)])\n",
            "   +- Exchange hashpartitioning(DEST_COUNTRY_NAME#46969, 5), ENSURE_REQUIREMENTS, [plan_id=35482]\n",
            "      +- HashAggregate(keys=[DEST_COUNTRY_NAME#46969], functions=[partial_count(1)])\n",
            "         +- FileScan csv [DEST_COUNTRY_NAME#46969] Batched: false, DataFilters: [], Format: CSV, Location: InMemoryFileIndex(1 paths)[file:/content/drive/MyDrive/Colab Notebooks/2015-summary.csv], PartitionFilters: [], PushedFilters: [], ReadSchema: struct<DEST_COUNTRY_NAME:string>\n",
            "\n",
            "\n"
          ]
        }
      ]
    },
    {
      "cell_type": "code",
      "source": [
        "spark.sql(\"SELECT max(count) from flight_data_2015\").take(1)"
      ],
      "metadata": {
        "colab": {
          "base_uri": "https://localhost:8080/"
        },
        "id": "P3Rff8YG1aLK",
        "outputId": "388c81eb-e91d-4649-e3d0-25448e181332"
      },
      "execution_count": null,
      "outputs": [
        {
          "output_type": "execute_result",
          "data": {
            "text/plain": [
              "[Row(max(count)=370002)]"
            ]
          },
          "metadata": {},
          "execution_count": 64
        }
      ]
    },
    {
      "cell_type": "code",
      "source": [
        "from pyspark.sql.functions import max\n",
        "flightData2015.select(max(\"count\")).take(1)"
      ],
      "metadata": {
        "colab": {
          "base_uri": "https://localhost:8080/"
        },
        "id": "9jUgpD471woq",
        "outputId": "0e7c0b76-9fed-4c2d-fba3-4156c400c36a"
      },
      "execution_count": null,
      "outputs": [
        {
          "output_type": "execute_result",
          "data": {
            "text/plain": [
              "[Row(max(count)=370002)]"
            ]
          },
          "metadata": {},
          "execution_count": 66
        }
      ]
    },
    {
      "cell_type": "code",
      "source": [
        "maxSql = spark.sql(\"\"\"\n",
        "  SELECT DEST_COUNTRY_NAME, sum(count) as destination_total\n",
        "  FROM flight_data_2015\n",
        "  GROUP BY DEST_COUNTRY_NAME\n",
        "  ORDER BY sum(count) DESC\n",
        "  LIMIT 5\n",
        "  \"\"\")\n",
        "maxSql.show()"
      ],
      "metadata": {
        "colab": {
          "base_uri": "https://localhost:8080/"
        },
        "id": "mv3GIXaQ1w1-",
        "outputId": "0fff52ab-8b4d-4cb6-c5bb-9ab08ceaf39a"
      },
      "execution_count": null,
      "outputs": [
        {
          "output_type": "stream",
          "name": "stdout",
          "text": [
            "+-----------------+-----------------+\n",
            "|DEST_COUNTRY_NAME|destination_total|\n",
            "+-----------------+-----------------+\n",
            "|    United States|           411352|\n",
            "|           Canada|             8399|\n",
            "|           Mexico|             7140|\n",
            "|   United Kingdom|             2025|\n",
            "|            Japan|             1548|\n",
            "+-----------------+-----------------+\n",
            "\n"
          ]
        }
      ]
    },
    {
      "cell_type": "code",
      "source": [
        "flightData2015\\\n",
        "    .groupBy(\"DEST_COUNTRY_NAME\")\\\n",
        "    .sum(\"count\")\\\n",
        "    .withColumnRenamed(\"sum(count)\", \"destination_total\")\\\n",
        "    .sort(desc(\"destination_total\"))\\\n",
        "    .limit(5)\\\n",
        "    .show()"
      ],
      "metadata": {
        "colab": {
          "base_uri": "https://localhost:8080/"
        },
        "id": "KBC9Jg8a1w4S",
        "outputId": "874c686e-8245-4fbd-dc84-e485213f9701"
      },
      "execution_count": null,
      "outputs": [
        {
          "output_type": "stream",
          "name": "stdout",
          "text": [
            "+-----------------+-----------------+\n",
            "|DEST_COUNTRY_NAME|destination_total|\n",
            "+-----------------+-----------------+\n",
            "|    United States|           411352|\n",
            "|           Canada|             8399|\n",
            "|           Mexico|             7140|\n",
            "|   United Kingdom|             2025|\n",
            "|            Japan|             1548|\n",
            "+-----------------+-----------------+\n",
            "\n"
          ]
        }
      ]
    },
    {
      "cell_type": "code",
      "source": [
        "flightData2015\\\n",
        "    .groupBy(\"DEST_COUNTRY_NAME\")\\\n",
        "    .sum(\"count\")\\\n",
        "    .withColumnRenamed(\"sum(count)\", \"destination_total\")\\\n",
        "    .sort(desc(\"destination_total\"))\\\n",
        "    .limit(5)\\\n",
        "    .explain()"
      ],
      "metadata": {
        "colab": {
          "base_uri": "https://localhost:8080/"
        },
        "id": "2YS_5jLl2awj",
        "outputId": "f7fe5a44-d73b-43c7-87d3-a73937abfb1f"
      },
      "execution_count": null,
      "outputs": [
        {
          "output_type": "stream",
          "name": "stdout",
          "text": [
            "== Physical Plan ==\n",
            "AdaptiveSparkPlan isFinalPlan=false\n",
            "+- TakeOrderedAndProject(limit=5, orderBy=[destination_total#47073L DESC NULLS LAST], output=[DEST_COUNTRY_NAME#46969,destination_total#47073L])\n",
            "   +- HashAggregate(keys=[DEST_COUNTRY_NAME#46969], functions=[sum(count#46971)])\n",
            "      +- Exchange hashpartitioning(DEST_COUNTRY_NAME#46969, 5), ENSURE_REQUIREMENTS, [plan_id=35684]\n",
            "         +- HashAggregate(keys=[DEST_COUNTRY_NAME#46969], functions=[partial_sum(count#46971)])\n",
            "            +- FileScan csv [DEST_COUNTRY_NAME#46969,count#46971] Batched: false, DataFilters: [], Format: CSV, Location: InMemoryFileIndex(1 paths)[file:/content/drive/MyDrive/Colab Notebooks/2015-summary.csv], PartitionFilters: [], PushedFilters: [], ReadSchema: struct<DEST_COUNTRY_NAME:string,count:int>\n",
            "\n",
            "\n"
          ]
        }
      ]
    },
    {
      "cell_type": "markdown",
      "source": [
        "# 2. Climate Change: Project Tasmania"
      ],
      "metadata": {
        "id": "8_T9FLbs4Pr4"
      }
    },
    {
      "cell_type": "markdown",
      "source": [
        "### (1) a. Forwhichcountryandduringwhatyear,thehighestaveragetemperature was observed?"
      ],
      "metadata": {
        "id": "mbtuqlr86fEP"
      }
    },
    {
      "cell_type": "code",
      "source": [
        "global_temp.show()"
      ],
      "metadata": {
        "colab": {
          "base_uri": "https://localhost:8080/"
        },
        "id": "sND-u-d_4hru",
        "outputId": "321ff212-1102-41ec-8d75-031d127a11d6"
      },
      "execution_count": 9,
      "outputs": [
        {
          "output_type": "stream",
          "name": "stdout",
          "text": [
            "+----------+-------------------+-----------------------------+-------+\n",
            "|        dt| AverageTemperature|AverageTemperatureUncertainty|Country|\n",
            "+----------+-------------------+-----------------------------+-------+\n",
            "|1743-11-01| 4.3839999999999995|                        2.294|  Åland|\n",
            "|1743-12-01|               null|                         null|  Åland|\n",
            "|1744-01-01|               null|                         null|  Åland|\n",
            "|1744-02-01|               null|                         null|  Åland|\n",
            "|1744-03-01|               null|                         null|  Åland|\n",
            "|1744-04-01|               1.53|                         4.68|  Åland|\n",
            "|1744-05-01|  6.702000000000001|                        1.789|  Åland|\n",
            "|1744-06-01| 11.609000000000002|                        1.577|  Åland|\n",
            "|1744-07-01|             15.342|                         1.41|  Åland|\n",
            "|1744-08-01|               null|                         null|  Åland|\n",
            "|1744-09-01|             11.702|                        1.517|  Åland|\n",
            "|1744-10-01|              5.477|                        1.862|  Åland|\n",
            "|1744-11-01|              3.407|                        1.425|  Åland|\n",
            "|1744-12-01|             -2.181|                        1.641|  Åland|\n",
            "|1745-01-01|              -3.85|                        1.841|  Åland|\n",
            "|1745-02-01| -6.574999999999998|                         1.36|  Åland|\n",
            "|1745-03-01|             -4.195|                        1.213|  Åland|\n",
            "|1745-04-01|-0.9660000000000002|                        1.172|  Åland|\n",
            "|1745-05-01|               null|                         null|  Åland|\n",
            "|1745-06-01|               null|                         null|  Åland|\n",
            "+----------+-------------------+-----------------------------+-------+\n",
            "only showing top 20 rows\n",
            "\n"
          ]
        }
      ]
    },
    {
      "cell_type": "code",
      "source": [
        "global_temp.createOrReplaceTempView(\"global_temperature\")\n",
        "result = spark.sql(\"\"\"\n",
        "SELECT Country, YEAR(dt) as Year, AverageTemperature\n",
        "FROM global_temperature\n",
        "WHERE AverageTemperature IS NOT NULL\n",
        "ORDER BY AverageTemperature DESC\n",
        "LIMIT 1\n",
        "\"\"\")\n",
        "result.show()"
      ],
      "metadata": {
        "colab": {
          "base_uri": "https://localhost:8080/"
        },
        "id": "m3LcPvoRXCP3",
        "outputId": "24bbe921-a062-4a52-adbd-bed7e4d75af3"
      },
      "execution_count": null,
      "outputs": [
        {
          "output_type": "stream",
          "name": "stdout",
          "text": [
            "+-------+----+------------------+\n",
            "|Country|Year|AverageTemperature|\n",
            "+-------+----+------------------+\n",
            "| Kuwait|2012| 38.84200000000001|\n",
            "+-------+----+------------------+\n",
            "\n"
          ]
        }
      ]
    },
    {
      "cell_type": "markdown",
      "source": [
        "The maximum average temperature was observed in 2012, at Kuwait"
      ],
      "metadata": {
        "id": "Wx5TL96E6nAk"
      }
    },
    {
      "cell_type": "markdown",
      "source": [
        "### b. Analyzethedatabycountryovertheyears,andnamewhicharethetop 10 countries with the biggest change in average temperature."
      ],
      "metadata": {
        "id": "0fkjyuJN8ta-"
      }
    },
    {
      "cell_type": "code",
      "source": [
        "change_temp_query =spark.sql(\"\"\"\n",
        "SELECT Country,\n",
        "       MAX(AverageTemperature) - MIN(AverageTemperature) AS temperature_change\n",
        "FROM global_temperature\n",
        "GROUP BY Country\n",
        "ORDER BY temperature_change DESC\n",
        "LIMIT 10\n",
        "\"\"\")\n",
        "change_temp_query.show()"
      ],
      "metadata": {
        "colab": {
          "base_uri": "https://localhost:8080/"
        },
        "id": "vA-kVf5K6PYu",
        "outputId": "8ae47fc9-03cd-4619-a40e-d707ae7d163b"
      },
      "execution_count": null,
      "outputs": [
        {
          "output_type": "stream",
          "name": "stdout",
          "text": [
            "+------------+------------------+\n",
            "|     Country|temperature_change|\n",
            "+------------+------------------+\n",
            "|  Kazakhstan|            49.163|\n",
            "|    Mongolia|48.157999999999994|\n",
            "|      Russia|             47.47|\n",
            "|      Canada|            43.532|\n",
            "|  Uzbekistan|            42.698|\n",
            "|Turkmenistan|            40.579|\n",
            "|     Finland|            40.332|\n",
            "|     Belarus|            39.338|\n",
            "|     Ukraine|            39.021|\n",
            "|     Estonia|38.882999999999996|\n",
            "+------------+------------------+\n",
            "\n"
          ]
        }
      ]
    },
    {
      "cell_type": "markdown",
      "source": [
        "### (2) a. Mergethetwodatasetsbycountry,andkeepthedatafrom1960to2014"
      ],
      "metadata": {
        "id": "zChm07kmbDWm"
      }
    },
    {
      "cell_type": "code",
      "source": [
        "co2_emissions.show()"
      ],
      "metadata": {
        "colab": {
          "base_uri": "https://localhost:8080/"
        },
        "id": "iYJKRcwRc5Cr",
        "outputId": "fa15ff41-4ee9-4fd8-dbea-57df29e5296e"
      },
      "execution_count": 10,
      "outputs": [
        {
          "output_type": "stream",
          "name": "stdout",
          "text": [
            "+--------------------+------------+-----------+-----------+-----------+-----------+-----------+-----------+-----------+-----------+-----------+-----------+-----------+-----------+-----------+-----------+-----------+-----------+-----------+-----------+-----------+-----------+-----------+-----------+-----------+-----------+-----------+-----------+-----------+-----------+-----------+-----------+-----------+-----------+-----------+-----------+-----------+-----------+-----------+-----------+-----------+-----------+-----------+-----------+-----------+-----------+-----------+-----------+-----------+-----------+-----------+-----------+-----------+-----------+-----------+-----------+-----------+----+----+----+----+\n",
            "|        Country Name|Country Code|       1960|       1961|       1962|       1963|       1964|       1965|       1966|       1967|       1968|       1969|       1970|       1971|       1972|       1973|       1974|       1975|       1976|       1977|       1978|       1979|       1980|       1981|       1982|       1983|       1984|       1985|       1986|       1987|       1988|       1989|       1990|       1991|       1992|       1993|       1994|       1995|       1996|       1997|       1998|       1999|       2000|       2001|       2002|       2003|       2004|       2005|       2006|       2007|       2008|       2009|       2010|       2011|       2012|       2013|       2014|2015|2016|2017|2018|\n",
            "+--------------------+------------+-----------+-----------+-----------+-----------+-----------+-----------+-----------+-----------+-----------+-----------+-----------+-----------+-----------+-----------+-----------+-----------+-----------+-----------+-----------+-----------+-----------+-----------+-----------+-----------+-----------+-----------+-----------+-----------+-----------+-----------+-----------+-----------+-----------+-----------+-----------+-----------+-----------+-----------+-----------+-----------+-----------+-----------+-----------+-----------+-----------+-----------+-----------+-----------+-----------+-----------+-----------+-----------+-----------+-----------+-----------+----+----+----+----+\n",
            "|               Aruba|         ABW|       null|       null|       null|       null|       null|       null|       null|       null|       null|       null|       null|       null|       null|       null|       null|       null|       null|       null|       null|       null|       null|       null|       null|       null|       null|       null|2.868319392|7.235198033|10.02617921| 10.6347326|26.37450321| 26.0461298| 21.4425588|22.00078616|21.03624511|20.77193616|20.31835337|20.42681771|20.58766915|20.31156677|26.19487524|25.93402441|25.67116178|26.42045209|26.51729342|27.20070778|26.94826047|  27.895574|26.23084664|25.91583295|24.67052887| 24.5058352|13.15554169|8.351294252|8.408362638|null|null|null|null|\n",
            "|         Afghanistan|         AFG|0.046059897|0.053604304|0.073764791|0.074232685|0.086292452|0.101467397|0.107636955|0.123734289| 0.11549774| 0.08682346|0.150290627|0.166042044| 0.13076385|0.136279785|0.155649444|0.168928649|0.154787206|0.182963616|0.163159571|0.168376671|0.132858608|0.151972881|0.164803883|0.203635582|0.234987713|0.297827727|0.270891121|0.271611659|0.248472561|0.235694613|0.213449805|0.187672724|0.099666474|0.089154036| 0.08003917|0.072698618|0.066044698|0.059648382| 0.05520717|0.042332597| 0.03850634|0.039002334|0.048715548|  0.0518296|0.039377828|0.052948215|0.063728472|0.085417506|0.154101422|0.241722682|0.293836994|0.412016938|0.350370581|0.315601773|0.299444991|null|null|null|null|\n",
            "|              Angola|         AGO|0.097471604|0.079038085|0.201289076|0.192534735|0.201003361|0.191528411|0.246412785|0.154911578|0.256315998|0.419550564|0.528697988|0.492302233|0.635214721|0.670624323|0.652023363|0.574693143|0.415850303|0.434755038|0.646179204|0.636944237|0.598717343|0.571201904|0.485251545|0.515071547|0.487395694|0.443121443|0.426768722|  0.5184278|0.445557344|0.423524277|0.420284254|0.405450105|0.400678653|0.430889258|0.281092579|0.769173426|0.712306341|0.489209377| 0.47137391|0.574083595|0.580352661|0.573047493|0.720768849|0.497975073|0.996165478|0.979740026|1.098883898|1.197843982|1.181526759|1.232494515|1.243405585|1.252789255|1.330843018|1.254617218|1.291328315|null|null|null|null|\n",
            "|             Albania|         ALB|1.258194928|1.374186047|1.439955964|1.181681144| 1.11174196|1.166099043|1.333055465|  1.3637463|1.519551277|1.558967572|1.753239905|1.989497923|2.515914398|2.303897417|1.849006691|1.910633637|2.013584562|2.275876391| 2.53062504|2.898208518| 1.93505831|2.693023914|2.624856785|2.683239919|2.694291374|2.658015382|2.665356221|2.414060815|2.331598531|2.783243075|1.678106654|  1.3122126|0.774724911|0.723790292|0.600203708|0.654537133|0.636625313| 0.49036506|0.560271437|0.960164412|0.978174681|1.053304176|1.229540709|1.412697196|1.376212735|1.412498211|1.302576367|1.322334855|1.484311139|1.495600199|1.578573584|1.803714725|1.692908325|1.749211079|1.978763312|null|null|null|null|\n",
            "|             Andorra|         AND|       null|       null|       null|       null|       null|       null|       null|       null|       null|       null|       null|       null|       null|       null|       null|       null|       null|       null|       null|       null|       null|       null|       null|       null|       null|       null|       null|       null|       null|       null|7.467335669|7.182456636|6.912053389|6.736054846|6.494200424|6.662051684|7.065071473|7.239712718|7.660783886|7.975454404|8.019284294|7.786950001|7.590615141|7.315760706|7.358624941|7.299871936|6.746218716|6.519465912|6.427886622|6.121652341|6.122594702|5.867129945|5.916596911|5.900752587|5.832169951|null|null|null|null|\n",
            "|          Arab World|         ARB|0.643689011|0.685150884|0.760854507|0.874941189|0.999097655|1.165705386|1.272650672|1.331404395|1.544942527|1.789913392|1.801245462|1.993486215|2.109871603|2.396799726|2.273440745|2.184263525|2.568710035|2.631628366| 2.74324133|2.842655116|3.069208819|2.907057909| 2.70111659|2.793356928|2.956318154|3.035558013|3.255536588|3.168821856|3.264489032|3.226127128|2.989008072|3.207224619|3.385246998| 3.63837855|3.644858894|3.398199765|3.304793683|3.124848492|3.329548276|3.309553392|3.684441272|3.590302965|3.588035581|3.779889011|4.051465169|4.168486256|4.268239866|4.100226273|4.390401434|4.542151451|4.615758201|4.537755236|4.813630727|4.650474168|4.860233832|null|null|null|null|\n",
            "|United Arab Emirates|         ARE|0.118757692| 0.10883674|0.163018351|0.175222592|0.132354958|0.146326865|0.159950399|5.383684807|6.785773552|100.6976695|64.74501378|75.98153209|70.48362784|77.12098728|66.46069916|56.05113796|61.29020795|51.84464328|52.58289939| 38.4518098|35.40411979|32.88162816|30.99646083|28.20499098|35.18821247|35.89096957| 32.0839896|30.55837249|29.21022992|31.02882617|27.95924521|28.93913532|27.86136845|  29.890451|31.40439759| 28.8469908|15.97008152|15.42443139| 28.7143215|26.22842771|35.67825923|30.49115342|24.15124891|28.55255307|27.70120802|25.36237265|23.63108943|22.43980121|22.82394719|21.90855608|19.44369027|19.07648878|19.81768422|18.95416379|23.30202251|null|null|null|null|\n",
            "|           Argentina|         ARG|2.367473032|2.442615898|2.522392105|2.316356332|2.538379303|2.641714344|2.792653799|2.858162297| 2.96985458|3.275850995|3.451159798|3.650078618|3.637858513|3.730791118|3.726698966|3.641822498|3.768774074|3.749871394|3.762750369|3.998733119|3.868853067|3.574967863|3.567086789|3.572042094|3.560142534| 3.31032707|   3.377245|3.669168725|3.820445568|3.629201904|3.426481983| 3.52770381|3.605749117|3.457164549|3.542095019|3.656645582|3.811457285|3.851202695|3.857870916|4.010698763|3.835573665|3.568599866|3.291547735| 3.52558427| 4.06905838|4.141236814|4.434821452|4.382668884|4.682912395|4.410889894|4.558499612|4.600290699|4.569383676|4.462903755|4.746797455|null|null|null|null|\n",
            "|             Armenia|         ARM|       null|       null|       null|       null|       null|       null|       null|       null|       null|       null|       null|       null|       null|       null|       null|       null|       null|       null|       null|       null|       null|       null|       null|       null|       null|       null|       null|       null|       null|       null|       null|       null|1.692473009|0.759983503|0.824155363| 1.05997746|0.809046419|1.032302975|1.081692124|0.975803629|1.128918604|1.161167684|1.003201493|1.136138307|1.214751524|1.460030477|1.481177962|1.726570171|1.911537642|1.509411878|1.465621895|1.710070765|1.976060074|1.899711734| 1.90275891|null|null|null|null|\n",
            "|      American Samoa|         ASM|       null|       null|       null|       null|       null|       null|       null|       null|       null|       null|       null|       null|       null|       null|       null|       null|       null|       null|       null|       null|       null|       null|       null|       null|       null|       null|       null|       null|       null|       null|       null|       null|       null|       null|       null|       null|       null|       null|       null|       null|       null|       null|       null|       null|       null|       null|       null|       null|       null|       null|       null|       null|       null|       null|       null|null|null|null|null|\n",
            "| Antigua and Barbuda|         ATG|0.662642982|0.849084497|1.796794064|1.446821285|1.540135072|2.473585495|5.613448493|8.912847222|15.31343284|19.08331058|6.886077081|6.238223734|5.406990864|4.710273171|6.053204097|9.883268863|5.580272532| 6.39051801|6.701462004|5.535809488| 1.94729174| 1.45543755|4.049249117|1.177305658|2.073948392|3.573357026| 3.62388641|4.053725403|4.265352382|4.292944302| 4.23352225|3.977164337|3.858476917| 3.87997941|3.732497664|3.735788316|3.878986619|3.962335507|3.995303753|4.033068153|4.123971095| 4.09566526|4.293313704|4.620874526|4.778147909|4.806998084|4.913644367|5.136472571|5.194500314|5.446757355|5.539567509|5.363407474|5.418446532|5.360453467|5.377648546|null|null|null|null|\n",
            "|           Australia|         AUS|8.582936643|8.641569017|8.835688047|9.226439909|9.759073431|10.62232139|10.32809244| 10.9556248|11.21016771|11.60055435|11.80289054|11.80911757|11.95163155|12.77968685|12.55966873|12.65989981|12.41679178|13.23189614|14.06985862|14.12909198|15.02491601|15.43250084|15.42493181|14.64008413| 15.2209753| 15.3084102|14.98057315| 15.7469578|15.79616778|16.51986292|15.45288167|15.12796621|15.31776851| 15.7014518|15.57658628|15.59651881|16.50180039|16.51427321|16.93569585|17.19029769|17.20060983|16.73336743|17.37045177|16.90195895|17.02651535|17.16971145|17.65139831|17.86526004|18.16087566|18.20018196|17.74084505|17.53887776|17.07290468|16.09583317|15.38876602|null|null|null|null|\n",
            "|             Austria|         AUT|4.373318828|4.496361641|4.755361673|5.155193747|5.391003988|5.252196533|5.361724683|5.417736727|5.711110104|6.006325178|6.788807307|6.953651912|7.448516814|7.930866985|7.562697278|7.176844855|7.721250012|7.428063284|7.601371804|8.158846402|   6.928479|7.416160614|7.112124941|6.874373273|7.214278667|7.230766353|7.144304852|7.623419815|7.032030698|7.102448997|7.513246156|7.944096184|7.226236428|7.223017309|7.189264701|7.521516107|7.938008299|7.863667996|7.981004261|7.741130615|7.774259739|8.192769898|8.299115796|8.889562334|8.858363703|9.020169598|8.727297872|8.406418936|8.295095978|7.518751102|8.071131802|7.748134305|7.387077163|7.368748145| 6.86986793|null|null|null|null|\n",
            "|          Azerbaijan|         AZE|       null|       null|       null|       null|       null|       null|       null|       null|       null|       null|       null|       null|       null|       null|       null|       null|       null|       null|       null|       null|       null|       null|       null|       null|       null|       null|       null|       null|       null|       null|       null|       null| 7.61863709|6.464585857|5.525358563|4.337414444|4.026472755|3.803022741| 4.00297561|3.579835395|3.666271029|3.547105484|3.623944346|3.718169927|3.863229639|4.091801927|4.616299863|  3.5553401|4.051383481|3.565668218|3.388225879|3.646179877| 3.82487717|3.785068836|3.931560609|null|null|null|null|\n",
            "|             Burundi|         BDI|       null|       null|0.015206992|0.016160066|0.015833023| 0.01191406| 0.01512058|0.014740464|0.016586591|0.021623037|0.018039962| 0.02092206|0.020693856|0.020494678|0.025334488|0.020974295|0.023533697|0.025910488|0.026234565|0.027411289|0.035629468|0.037336898|0.036387481|0.046159711|0.048130813|0.049131807|0.048473582|0.049993825|0.044267124|0.050698823|0.038597042|0.043008469|0.038217221|0.039393228|0.039969978|0.039978645|0.040062492|0.040797127|0.040307438|0.040297088|0.042395011|0.031323575|0.031548442|0.023205146|0.027569697|0.020747407|0.024365963|0.023555045|0.023219419|0.022462399|0.024260032| 0.02676196|0.030296973| 0.03017577|0.044485376|null|null|null|null|\n",
            "|             Belgium|         BEL|9.941594074|10.10387199|10.64118963|11.38692874|11.05365472|11.14165555|11.04201943|11.21725675|12.32568713|12.81544961|13.01017881|12.56342518|13.47269526| 14.2554864|13.83696555| 12.4583039|13.24167979|12.87543872|13.80705794|14.23923382|13.72329627|12.57955507|11.92668478|10.31207942|10.69696639|10.59744025|10.43154171|10.44717278|10.13514385|10.81351494|10.63967167|11.09099988|11.14648251|10.67503455| 11.1051094|11.08115205|11.62383425|11.32885202|11.60191455|11.17302675| 11.2296677|11.13371551| 10.3854951|10.88211417|10.66129022|10.35539299|  10.151039|9.744777191|9.751984809|9.249615685|10.17146522|9.054330011| 8.56287875|8.689543091|8.328159898|null|null|null|null|\n",
            "|               Benin|         BEN|0.066354063| 0.05204863|0.054208805|0.047588561|0.055303533|0.057114995|0.042382648|0.052284076|0.055170709|0.070750258|0.096952622|0.098556326|0.127712648|0.122481633|0.127701408|0.135891142|0.077784148|0.086510056|0.103019122|0.101339606|0.139097135|0.112310111|0.125105341|0.112552906|0.120856597|0.173986403|0.155688061|0.118857275|0.118496584|0.130855167|0.142157591|0.159512217|0.168501162|0.205206743|0.221397671|0.224780453|0.207591276|0.193809928|0.187593089|0.234411619|0.232860969|0.256497596|0.285000234|0.313037269|0.323642156|0.299985405|0.471267009|0.531738987|0.507237393|0.521063185|0.553283259|0.559693354|0.562347006|0.580960914|0.614213852|null|null|null|null|\n",
            "|        Burkina Faso|         BFA|0.009111902|0.018729901|0.017003116|0.017504203|0.021575284|0.019841271|0.019533659|0.019216851|0.018894962|0.021889868|0.025426341|0.026268913|0.027698405|0.028443214|0.033998445| 0.03574919|0.033314914| 0.03896836|0.053341702| 0.06100989| 0.06342019|0.079795452|0.080427283| 0.08092381|0.061836945|0.061686819|0.060571874|0.063518718|0.066263378|0.095737173|0.066173051|0.069287423|0.067840845|  0.0656434|0.065745043|0.062147134|0.068229866|0.075639822|0.078563833| 0.08255275|0.089716851|0.083504269|0.081733493|0.085194017|0.084705971|0.083875344|0.098375847|0.115526282|0.130556622|0.127633338|0.125717252|0.137496219|0.158663009|0.179132409|0.162018806|null|null|null|null|\n",
            "|          Bangladesh|         BGD|       null|       null|       null|       null|       null|       null|       null|       null|       null|       null|       null|       null|0.051914946|0.066302743|0.066692361| 0.06829413|0.076304643|0.077572579|0.078115625|0.083903855|0.093755743|0.094739619|0.099981186|0.093233483|0.100553935|0.109813432|0.119727919|0.120625234|0.134150581| 0.12986798|0.146281294|0.146609266|0.159575353|0.153104602|0.163272688|0.192205167|0.198152233|0.202365814|0.190182468| 0.19558517|0.211802225|0.242020016|0.246756218| 0.25660216|0.266823041|0.275246594|0.299529173|0.301630726|0.332727819|0.357158767|0.393936699|0.412011186|0.433487963|0.442400828|0.459141965|null|null|null|null|\n",
            "|            Bulgaria|         BGR|2.833901121|3.269920074|3.835891818|4.259780927|5.262987916|5.645651942|5.905436715|6.638369161|7.112214403|7.869932816|7.213424372|7.532552676|7.715656701|7.983550221|8.210958036|8.377877479|8.347946173|8.628766462|9.236529547|8.968132006|8.744238667| 9.03643153|10.10727531|10.10833662|9.749961471|9.992783476|10.21729994|  10.214134|9.718843491|9.771261867| 8.54301079|6.666757565|6.347137362| 8.00979638|6.414520789|6.900326395|6.763241038|6.209849583|5.934325293|5.356718076|5.328034342|5.800066474|5.695266947|6.084370085|6.064891808|6.256282044|6.445333272|6.925435282|6.772087541|5.731193724|5.964900206| 6.71538056|6.119456526|5.450695963|5.871615869|null|null|null|null|\n",
            "+--------------------+------------+-----------+-----------+-----------+-----------+-----------+-----------+-----------+-----------+-----------+-----------+-----------+-----------+-----------+-----------+-----------+-----------+-----------+-----------+-----------+-----------+-----------+-----------+-----------+-----------+-----------+-----------+-----------+-----------+-----------+-----------+-----------+-----------+-----------+-----------+-----------+-----------+-----------+-----------+-----------+-----------+-----------+-----------+-----------+-----------+-----------+-----------+-----------+-----------+-----------+-----------+-----------+-----------+-----------+-----------+-----------+----+----+----+----+\n",
            "only showing top 20 rows\n",
            "\n"
          ]
        }
      ]
    },
    {
      "cell_type": "code",
      "source": [
        "co2_emissions.createOrReplaceTempView(\"co2_emissions\")"
      ],
      "metadata": {
        "id": "rQEu_n5Pcx1e"
      },
      "execution_count": null,
      "outputs": []
    },
    {
      "cell_type": "code",
      "source": [
        "\n",
        "# List of columns to exclude, exclude 2014 since the dt doesn't have 2014\n",
        "exclude_columns = ['2015', '2016', '2017', '2018','2014']\n",
        "\n",
        "# Select all columns except the ones to exclude\n",
        "selected_columns = [col for col in co2_emissions.columns if col not in exclude_columns]\n",
        "\n",
        "# Now select these columns from co2_emissions DataFrame\n",
        "co2_emissions_selected = co2_emissions.select(*selected_columns)\n",
        "\n",
        "# Create or replace temp views with the selected columns\n",
        "co2_emissions_selected.createOrReplaceTempView(\"co2_emissions_selected\")\n",
        "global_temp.createOrReplaceTempView(\"global_temperature\")\n",
        "\n",
        "# Now the 'merged_data_query' should work as the view 'co2_emissions_selected' exists\n",
        "merged_data_query = \"\"\"\n",
        "SELECT\n",
        "    sub.dt,\n",
        "    sub.AverageTemperature,\n",
        "    sub.AverageTemperatureUncertainty,\n",
        "    sub.Country,\n",
        "    ce.*\n",
        "FROM (\n",
        "    SELECT\n",
        "        YEAR(dt) as dt,\n",
        "        AVG(AverageTemperature) as AverageTemperature,\n",
        "        AVG(AverageTemperatureUncertainty) as AverageTemperatureUncertainty,\n",
        "        Country\n",
        "    FROM global_temperature\n",
        "    WHERE YEAR(dt) BETWEEN 1960 AND 2014\n",
        "    GROUP BY YEAR(dt), Country\n",
        ") as sub\n",
        "JOIN co2_emissions_selected ce\n",
        "ON sub.Country = ce.`Country Name`\n",
        "ORDER BY dt ASC\n",
        "\"\"\"\n",
        "\n",
        "# Execute the query\n",
        "merged_data = spark.sql(merged_data_query)\n",
        "\n",
        "# Show the results\n",
        "merged_data.show()\n"
      ],
      "metadata": {
        "colab": {
          "base_uri": "https://localhost:8080/"
        },
        "id": "SDbWHpcli444",
        "outputId": "d95da5b3-7bf8-48d3-ea2c-24721a8b2a02"
      },
      "execution_count": 25,
      "outputs": [
        {
          "output_type": "stream",
          "name": "stdout",
          "text": [
            "+----+-------------------+-----------------------------+------------------+------------------+------------+-----------+-----------+-----------+-----------+-----------+-----------+-----------+-----------+-----------+-----------+-----------+-----------+-----------+-----------+-----------+-----------+-----------+-----------+-----------+-----------+-----------+-----------+-----------+-----------+-----------+-----------+-----------+-----------+-----------+-----------+-----------+-----------+-----------+-----------+-----------+-----------+-----------+-----------+-----------+-----------+-----------+-----------+-----------+-----------+-----------+-----------+-----------+-----------+-----------+-----------+-----------+-----------+-----------+-----------+\n",
            "|  dt| AverageTemperature|AverageTemperatureUncertainty|           Country|      Country Name|Country Code|       1960|       1961|       1962|       1963|       1964|       1965|       1966|       1967|       1968|       1969|       1970|       1971|       1972|       1973|       1974|       1975|       1976|       1977|       1978|       1979|       1980|       1981|       1982|       1983|       1984|       1985|       1986|       1987|       1988|       1989|       1990|       1991|       1992|       1993|       1994|       1995|       1996|       1997|       1998|       1999|       2000|       2001|       2002|       2003|       2004|       2005|       2006|       2007|       2008|       2009|       2010|       2011|       2012|       2013|\n",
            "+----+-------------------+-----------------------------+------------------+------------------+------------+-----------+-----------+-----------+-----------+-----------+-----------+-----------+-----------+-----------+-----------+-----------+-----------+-----------+-----------+-----------+-----------+-----------+-----------+-----------+-----------+-----------+-----------+-----------+-----------+-----------+-----------+-----------+-----------+-----------+-----------+-----------+-----------+-----------+-----------+-----------+-----------+-----------+-----------+-----------+-----------+-----------+-----------+-----------+-----------+-----------+-----------+-----------+-----------+-----------+-----------+-----------+-----------+-----------+-----------+\n",
            "|1960| 26.781583333333334|           0.3115833333333334|             Haiti|             Haiti|         HTI|0.073981955|0.075323252|0.075662887|0.060763257|0.071822273|0.071260015|0.069847876| 0.05856602|0.058229019|0.068227566|0.081771984|0.084155426|0.080460201|0.085009909|0.093710033|0.094165444|0.128808026|0.132498686|0.138591911|0.135710726|0.132142146|0.131714441|0.138545425|0.146759587|0.146319689|0.147617515|0.129207881|0.136882346|0.150160098|0.149182899|0.139971058|0.137701251|0.123110746|0.088136104|0.039178826|0.115358616|0.129820742|0.168614307|0.149193502| 0.15838386|0.159990525|  0.1805538|0.206703021|0.193224637|0.217948811|0.224056081| 0.22447544| 0.25017388|0.247110854|0.230376834|0.212694146|0.218681438|0.224883835| 0.23059851|\n",
            "|1960| 24.287166666666668|           0.2568333333333333|             India|             India|         IND|0.268269551|0.284413565|0.306651555| 0.32266942|0.309030714|0.333476589|0.338014194|0.331937527|0.353486004| 0.35221154|0.352512006|0.363581819|0.375983444|0.378281792|0.382164002|0.405924503|0.414906217|0.428989682| 0.42538707|0.436017668|0.450665384|0.475150142|0.479042022|0.506954362|0.507846102|0.545851321|0.572550746|0.598047761|0.632199768|0.679371884|  0.7115628|0.741158963|0.771602203|0.783172984|0.811640203|0.844952257|0.901348777| 0.92007238|0.921501664|0.962521771|0.979870442| 0.97169808|0.967381128|0.992391683|1.025027608|1.068563218|1.121981504| 1.19320986|1.310097833|1.431844254|1.397008906| 1.47668635|1.598098637|1.591437853|\n",
            "|1960| 2.5713333333333335|           0.4435833333333334|           Iceland|           Iceland|         ISL|6.913193297|6.103849097| 6.57485552|7.031677377|6.927178635|7.265879991|7.650130388|7.269387324|7.916823831|6.220785862|6.798114832|7.152587604|7.101254202|8.255702558|8.093643853|7.418820162|7.745282847|8.597153278|8.612332634|8.804633752|8.181464727|7.596047756|  6.8366202|6.530059879|7.578628956|6.744466767|7.343650794|7.532101733|7.400368383|7.526825969|7.842665191|6.856146503|6.967183412| 7.49459854|7.553975062|7.280037238|8.222645733|7.763336874|7.667265104|7.456127132|7.693782116|7.373427894|7.550227286|7.485457013|7.683682902|7.513584557|7.568614994|7.414833454|6.677481144|6.447492771|6.168528586|5.896828979|5.613991818|5.866946294|\n",
            "|1960|  22.94241666666667|           0.4615000000000001|          Ethiopia|          Ethiopia|         ETH|0.015892176|0.015042483|0.017054794|0.017719867|0.016683879|0.025801617|0.032177485|0.040882101|0.064096784|0.060333958|0.058202095|0.063320974| 0.04673108|0.056497003|0.054570323|0.037157756|0.035511837|0.031192369|0.040256114|0.053430353|0.051680257|0.051674643|0.039892131|0.048177053| 0.04212724|0.044488964|0.052583799|0.059355556|0.059495219|0.060854997| 0.06276065| 0.05991315|0.057439133|0.056580884|0.040420199|0.044725848|0.048351836|0.050034792|0.051272705|0.048844127|0.053348338|0.063550673|0.064136044|0.068745056|0.070957323| 0.06671871|0.069804932|0.074245057|0.079084048|0.077619139| 0.07509386|0.085803968|0.092622864|0.112072453|\n",
            "|1960| 26.083750000000006|          0.35808333333333336|Dominican Republic|Dominican Republic|         DOM|0.316155046|0.302506327|0.353028929|0.343658929|0.465454891|0.398941672|0.417894349|0.380468977|0.553066629|0.606689954|0.690547919|0.760937217|0.982245762|1.220224378|1.278470867|1.231130684|1.199250368|1.037383046|0.982979217|1.199736043|1.111600616|1.037738633| 1.04300555|1.273301381|1.171994901|1.124029105| 1.23459219|1.441945628|1.424662293|1.471915623|1.284840277|1.371066238| 1.46266565|1.545528489|1.609061051|2.012746149|2.157968757|2.205103784|2.217515361|2.202171949|2.311301258|2.278507636|2.415109906|2.399070559|2.011351755|2.017778384|2.111060875|2.227743225|2.149242258|2.070810108|2.123958664|2.117090045|2.178544552|2.085432517|\n",
            "|1960| 21.927083333333332|           0.3024166666666667|            Angola|            Angola|         AGO|0.097471604|0.079038085|0.201289076|0.192534735|0.201003361|0.191528411|0.246412785|0.154911578|0.256315998|0.419550564|0.528697988|0.492302233|0.635214721|0.670624323|0.652023363|0.574693143|0.415850303|0.434755038|0.646179204|0.636944237|0.598717343|0.571201904|0.485251545|0.515071547|0.487395694|0.443121443|0.426768722|  0.5184278|0.445557344|0.423524277|0.420284254|0.405450105|0.400678653|0.430889258|0.281092579|0.769173426|0.712306341|0.489209377| 0.47137391|0.574083595|0.580352661|0.573047493|0.720768849|0.497975073|0.996165478|0.979740026|1.098883898|1.197843982|1.181526759|1.232494515|1.243405585|1.252789255|1.330843018|1.254617218|\n",
            "|1960|             24.902|          0.34624999999999995|          Honduras|          Honduras|         HND| 0.30219014|0.351585832|0.324911906|0.320925589|0.316835413|0.320431285|0.334080529|0.352480721|0.478293078|0.446293616|0.511581689|0.475718919| 0.53310644|0.508860577| 0.50942975|0.529130002|0.547034318| 0.59716091|0.592767887|0.541825206|0.559278697|0.480497968|0.451030863|0.496653105|0.478355729|0.445399631|  0.4190707|0.478781339|0.535579054|0.566715904|0.523188172|0.529203516|0.586263176|0.527757346|0.600971613|0.679567585|0.674925343|0.689742808|0.750926433|0.745833911|0.771138223|0.853598376|0.887475982|0.962390428|1.022605017|1.024491994|0.929221554| 1.13892448|1.101591737|0.979841745|0.973269197|1.072227358| 1.05625722|1.047014219|\n",
            "|1960|-16.951083333333333|           0.7759166666666667|           Denmark|           Denmark|         DNK|6.502683093|6.881260155|7.945107361|  8.6898313|9.146392939|9.316576004|10.44901166|10.14930055|10.96131479|12.14297486|12.59965647|11.49722715| 11.9488346|11.80161179|10.91676863|11.02376646|11.85490289|12.15458515|11.97392623|12.31219662|11.78401383|10.11194239|10.49196453|9.810842233|9.950133216|11.74744309|11.50329653|11.37930503|10.74325063|9.505090019|9.770698699|11.69331148| 10.5045545|10.99825503| 11.7169489|10.92454083|13.71465193|11.64768852|11.22730415|10.36266364|9.613175554|9.875092348| 9.68193193|10.38827349|9.362701019|8.690076931|10.11291416| 9.20201511|8.543351098|8.058895601| 8.40721667|7.296383208|6.514800847|6.862565032|\n",
            "|1960| 1.7759166666666666|           0.2539166666666666|           Finland|           Finland|         FIN|3.409846728|3.348877215|3.742567366|4.279630907|5.024189944|5.549837063|6.444050245|6.213386589|7.200890139| 8.20434233|8.769643882|8.799132244| 9.51830728|10.58429033|  9.9520677|9.785017744|10.85124292|10.59729975|10.92339046|11.40345731|12.18667255|10.73140319|8.925664185|8.562246655| 8.65558094|10.13132618|10.84333288|11.68994386|10.54993985|10.59243558|10.37716896|10.71047721|9.415521088|9.948375064|11.24602792|10.32014335|11.95863616|11.66057821|11.05828449| 10.7295164|10.12847414| 10.9967421|11.86067583|13.26109694|12.83267498|10.41643805|12.57063845|12.09848186|10.63715919|9.955194272|11.57528165|10.54447474|9.075433356|8.681780123|\n",
            "|1960| 28.132083333333338|           0.2569166666666667|      Burkina Faso|      Burkina Faso|         BFA|0.009111902|0.018729901|0.017003116|0.017504203|0.021575284|0.019841271|0.019533659|0.019216851|0.018894962|0.021889868|0.025426341|0.026268913|0.027698405|0.028443214|0.033998445| 0.03574919|0.033314914| 0.03896836|0.053341702| 0.06100989| 0.06342019|0.079795452|0.080427283| 0.08092381|0.061836945|0.061686819|0.060571874|0.063518718|0.066263378|0.095737173|0.066173051|0.069287423|0.067840845|  0.0656434|0.065745043|0.062147134|0.068229866|0.075639822|0.078563833| 0.08255275|0.089716851|0.083504269|0.081733493|0.085194017|0.084705971|0.083875344|0.098375847|0.115526282|0.130556622|0.127633338|0.125717252|0.137496219|0.158663009|0.179132409|\n",
            "|1960|  27.03891666666667|           0.4030833333333333|    Cayman Islands|    Cayman Islands|         CYM|1.398728544|1.370670321|1.350478763|1.337182448|1.325741142|1.314493966|2.172136003|1.721394203|2.549183177|4.985159171|4.010279965|4.592839996|5.426696922|5.440652819|4.783875457|4.492404443|5.068806635|5.033812586|6.252984107|5.935962186|  9.9831704|9.173506463|9.296381655|9.420417737|9.887828291|9.873349557|9.959261271|10.13885374|9.924882421|10.79618102|9.970251899|10.35203906|11.37406948|11.52098024|12.07895525|11.46226951|11.48124404|11.43458718|11.36828299|  10.777708|11.17156428|10.83608828|10.90149314|10.75530112|9.768536333|9.728990992|9.674881573|11.11147369|11.01638136| 10.2688701|10.04168844|10.36992524|9.307268397|9.172054616|\n",
            "|1960| 21.421999999999997|          0.33675000000000005|            Malawi|            Malawi|         MWI|       null|       null|       null|       null|0.083269058|0.085832241|0.103180906|0.086039317|0.088934598|0.085042521|0.098769626|0.106240337|0.112433508|0.114480462|0.106988599|0.109466657|0.106889923|0.113381476|0.115563787|0.106585802|0.115428974|0.095622031|0.091612059|0.086426672| 0.08082799|0.077295227|0.072615718|0.067287776|0.062836643|0.062093285|0.079265038|0.082535668|0.081784393|0.091338055|0.093574793|0.092886147|0.090316722|0.092894801|0.087352393|0.085330371|0.076394678|0.073993001|0.070814422|0.074310875|0.073478637|0.067211075|0.067992046| 0.06411502| 0.07400173|0.064295725|0.075433298|0.075556876| 0.06811283|0.073883522|\n",
            "|1960| 24.946833333333334|          0.29958333333333337|          Colombia|          Colombia|         COL|0.995718667|1.072742792|1.110985373|1.178780606|1.168263393|1.195438802|1.191686651|1.216834649|1.272614681|1.305148889|1.287534798|1.341151105|1.360066658|1.423460867|1.506910292|1.449945557|1.504107662|1.519168155|1.572806879|1.638778444|1.599112838|1.566771994|1.581777337| 1.66568998|1.613837898|1.560016049|1.550409766|1.561896683|1.590434666|1.583188677|1.673025787|1.635914936|1.744983321|1.768803864|1.835016799| 1.59218139|1.590776145|1.679619011|1.681616958|1.419215476|1.433620241|1.372902655|1.338899634|1.362244907|1.288989699|1.407985384|1.435824144| 1.40690202|1.516403445|1.599905659|1.658923082| 1.64912349|1.705398582|1.893103161|\n",
            "|1960| 20.594500000000004|           0.3916666666666668|           Bolivia|           Bolivia|         BOL| 0.27203787|0.276621442|0.286626419|0.310159593|0.371215506|0.371151111|0.407084554|0.446569785|0.503738613|0.577435829|0.551786173|0.665554708|0.760237314|0.720636556|0.717366887|0.810373475| 0.89457664|0.856199953|0.939655034|0.866274904|0.835142386|0.839129113|0.745317284|0.719868925| 0.66404349|0.664145825|0.595940954|0.623387481|0.653551374|0.742885591|0.839700279|0.858995776|0.933241509|1.076331229|1.164031109|1.301696086| 1.27342178|1.390233717|1.369256318|1.276302527|1.327056787|1.014681791|1.201378773|1.259040432|1.239406557|1.335330942|1.621906742| 1.30616895| 1.37896562|1.433545061|1.532870644|1.602029322|1.835469055|1.818997383|\n",
            "|1960|             11.214|           0.3641666666666667|           Andorra|           Andorra|         AND|       null|       null|       null|       null|       null|       null|       null|       null|       null|       null|       null|       null|       null|       null|       null|       null|       null|       null|       null|       null|       null|       null|       null|       null|       null|       null|       null|       null|       null|       null|7.467335669|7.182456636|6.912053389|6.736054846|6.494200424|6.662051684|7.065071473|7.239712718|7.660783886|7.975454404|8.019284294|7.786950001|7.590615141|7.315760706|7.358624941|7.299871936|6.746218716|6.519465912|6.427886622|6.121652341|6.122594702|5.867129945|5.916596911|5.900752587|\n",
            "|1960| 20.470583333333334|           0.3468333333333333|            Jordan|            Jordan|         JOR|0.798493334|1.006172135|1.038652792|1.163736465|1.128605786|1.213420323|1.251490355| 1.02758473|1.005891976|1.089695452|0.906663106|0.917457884|1.019469874|1.132729003|1.112080657|1.208753814|1.392376852|1.454239282|1.629526885| 1.65039756|1.990700474|2.382394635|2.458306735|2.760419424|3.004366954|2.949063272|3.082116362|3.089130882|2.863547262|2.719718246|2.921791718|2.610469935|3.091104577|2.888482947|3.101467645|2.964614827|3.008163901|2.983826018| 2.95121382|2.905141459| 3.03886889|3.081321549| 3.19367817|3.237042722|3.475823105| 3.68553936|3.559335058|3.557940164|3.289654786|3.209444026|2.948961557|2.860523571|3.058367062|2.898831801|\n",
            "|1960| 24.752666666666666|           0.3506666666666667|            Brazil|            Brazil|         BRA|0.649630979|0.661770535|0.701235515|0.705320917|0.698986877|0.675446675|0.749139805|0.750561092|0.854945684|0.907249859|0.983579957|1.050207246|1.141987419|1.291260645|1.365352349| 1.40471881|1.407767882|1.443825283|1.530792389|1.591332374| 1.54416234|1.385189279|1.356283772|1.282947099|1.271128076|1.335891636|1.435986871|1.468996065|1.453899001|1.459005827|1.398620609|1.443186893|1.427921974|1.468431889|1.516257008|1.591823026|1.726864217|1.793828678|1.835152374|1.853290732|1.871118313|1.898353874|1.844379611|1.762482362|1.828671981|1.858087992|1.839393859|1.901371917|2.008670258|1.883811784|2.132937571|2.211587235|2.343570115|2.488417184|\n",
            "|1960|  26.02916666666667|          0.23458333333333337|         Indonesia|         Indonesia|         IDN|0.243805283|0.288719865|0.248446982|0.239681359|0.229361133|0.246138802|0.226991953|0.231915478| 0.25350528|0.298673299|0.311951858|0.330621467|0.358007991|0.395470253|0.402156671|0.412805028|0.461238965|0.600297761| 0.66778019|0.660145704|0.642649545|0.663407124|0.682224213|0.664097632|0.694402068|0.734768041|0.722917275|0.718414523|0.755209458|0.734806355|0.824341653|   0.973538|1.078874707|1.145229554|1.141628552| 1.14207743|1.266992998|1.373878882|1.041245921|1.159992484|1.245241613|1.374818345|1.410233797|1.436404464|1.509898209|1.508480596| 1.50157677|1.611855395|1.763895139|1.865165403|1.767907879|2.456844744|2.559750233|1.945094474|\n",
            "|1960| 26.603083333333334|          0.34149999999999997|          Dominica|          Dominica|         DMA|0.183316392|0.180249705|0.177487012|0.233128834|0.229452805| 0.22552969|0.221200103|0.325059835| 0.31868482|0.261133978|0.361163874|0.358660873|0.357835894|0.357786017|0.408539557|0.406913197|0.403843507|0.349661495| 0.34574769| 0.44048048|0.486894867|0.486500829| 0.53661035|0.539647076|0.592941937|0.647325611|0.652803834|0.658712174|0.766705695|0.823559136|0.827228379|0.828209254|0.826715514|  0.8754248|0.924803497|1.130394575|1.030852484|1.140220203|1.095561246|1.154084946|1.473620759|1.579015358| 1.47049725|1.674118671|1.615211924|1.661460914|1.605448614|2.170739958|1.857388074|1.853346249|1.950531915|1.789578627|1.883279662|1.823370166|\n",
            "|1960| 26.266500000000004|           0.4495833333333332|           Bahrain|           Bahrain|         BHR|3.544478443|10.54928109| 9.19164395|6.710688223|8.742075708|6.554118582|3.384393576|5.124669111|5.500874644|6.175647802|12.19429929|13.79835415|16.06627828|23.05586427|21.45661761|21.58572163|23.17139967|24.63817597|24.01036872|23.72652699|21.91714367| 22.7888779|25.49180205|20.75587079|22.61106705|24.30503302|25.40359461|25.45818791|26.14657504|24.39890041|25.05885496|23.29978127|20.84164011|27.30693027| 26.9092684|26.28769432|26.99547927|29.11139294|29.98959267|28.30850608|28.05091075|19.96600382|21.35410421|21.14840679|21.10015931|21.60193124|19.64708884|25.91595737|26.70821199|23.81170841| 23.5854809|22.41333475|20.51485098|23.80435697|\n",
            "+----+-------------------+-----------------------------+------------------+------------------+------------+-----------+-----------+-----------+-----------+-----------+-----------+-----------+-----------+-----------+-----------+-----------+-----------+-----------+-----------+-----------+-----------+-----------+-----------+-----------+-----------+-----------+-----------+-----------+-----------+-----------+-----------+-----------+-----------+-----------+-----------+-----------+-----------+-----------+-----------+-----------+-----------+-----------+-----------+-----------+-----------+-----------+-----------+-----------+-----------+-----------+-----------+-----------+-----------+-----------+-----------+-----------+-----------+-----------+-----------+\n",
            "only showing top 20 rows\n",
            "\n"
          ]
        }
      ]
    },
    {
      "cell_type": "markdown",
      "source": [
        "### b. WhatisthecorrelationbetweenCO2emissionsandtemperaturechange?"
      ],
      "metadata": {
        "id": "QWP0dgvPycyi"
      }
    },
    {
      "cell_type": "markdown",
      "source": [
        "I will make lists of both average temperature each year and the CO2 emission each year. So the corr function can work on it directly."
      ],
      "metadata": {
        "id": "0_EYI2iRkz5K"
      }
    },
    {
      "cell_type": "code",
      "source": [
        "# between MAX and MIN 'AverageTemperature'\n",
        "temp_diff_by_year = merged_data.groupBy('dt').agg(\n",
        "    F.abs(F.max('AverageTemperature') - F.min('AverageTemperature')).alias('temp_diff')\n",
        ")\n",
        "\n",
        "# Order the results by 'dt'\n",
        "temp_diff_by_year = temp_diff_by_year.orderBy('dt')\n",
        "\n",
        "# Collect the results into a list\n",
        "temp_diff_list = [(row['dt'], row['temp_diff']) for row in temp_diff_by_year.collect()]"
      ],
      "metadata": {
        "id": "EDtMyUoBaUPP"
      },
      "execution_count": 26,
      "outputs": []
    },
    {
      "cell_type": "code",
      "source": [
        "temp_diff_list"
      ],
      "metadata": {
        "colab": {
          "base_uri": "https://localhost:8080/"
        },
        "id": "1Nip44kWuEwW",
        "outputId": "410c6172-073c-4dcd-f4ae-e836340a6d80"
      },
      "execution_count": 22,
      "outputs": [
        {
          "output_type": "execute_result",
          "data": {
            "text/plain": [
              "[(1960, 46.165416666666665),\n",
              " (1961, 47.85983333333334),\n",
              " (1962, 46.14616666666667),\n",
              " (1963, 46.82333333333334),\n",
              " (1964, 47.218250000000005),\n",
              " (1965, 45.95291666666667),\n",
              " (1966, 47.66191666666667),\n",
              " (1967, 47.138916666666674),\n",
              " (1968, 47.3625),\n",
              " (1969, 47.548),\n",
              " (1970, 47.72741666666667),\n",
              " (1971, 48.319833333333335),\n",
              " (1972, 47.90708333333333),\n",
              " (1973, 48.38816666666666),\n",
              " (1974, 46.673),\n",
              " (1975, 48.22275),\n",
              " (1976, 46.741333333333344),\n",
              " (1977, 47.169666666666664),\n",
              " (1978, 47.51133333333333),\n",
              " (1979, 47.62083333333333),\n",
              " (1980, 47.02483333333333),\n",
              " (1981, 47.25316666666667),\n",
              " (1982, 48.037749999999996),\n",
              " (1983, 49.7235),\n",
              " (1984, 48.18366666666666),\n",
              " (1985, 46.363416666666666),\n",
              " (1986, 46.929583333333326),\n",
              " (1987, 48.357083333333335),\n",
              " (1988, 47.39533333333333),\n",
              " (1989, 48.16499999999999),\n",
              " (1990, 47.759),\n",
              " (1991, 47.66075000000001),\n",
              " (1992, 48.5835),\n",
              " (1993, 48.233666666666664),\n",
              " (1994, 47.704249999999995),\n",
              " (1995, 47.49925),\n",
              " (1996, 46.55291666666667),\n",
              " (1997, 47.26716666666667),\n",
              " (1998, 46.91949999999999),\n",
              " (1999, 47.62575000000001),\n",
              " (2000, 47.227916666666665),\n",
              " (2001, 47.07333333333333),\n",
              " (2002, 46.352000000000004),\n",
              " (2003, 46.01408333333333),\n",
              " (2004, 46.84208333333333),\n",
              " (2005, 45.959833333333336),\n",
              " (2006, 46.89175),\n",
              " (2007, 46.8605),\n",
              " (2008, 46.72916666666667),\n",
              " (2009, 47.21316666666668),\n",
              " (2010, 45.67341666666667),\n",
              " (2011, 47.018666666666675),\n",
              " (2012, 46.695833333333326),\n",
              " (2013, 46.1545)]"
            ]
          },
          "metadata": {},
          "execution_count": 22
        }
      ]
    },
    {
      "cell_type": "code",
      "source": [
        "# Initialize a list to hold the average emissions for each year\n",
        "average_emissions = []\n",
        "\n",
        "years = [str(year) for year in range(1960, 2014)]\n",
        "\n",
        "# Calculate the average for each year and add it to the list\n",
        "for year in years:\n",
        "    avg_col = F.avg(year).alias(f'avg_{year}')\n",
        "    avg_emission = co2_emissions_selected.select(avg_col).collect()[0][f'avg_{year}']\n",
        "    average_emissions.append((year, avg_emission))\n"
      ],
      "metadata": {
        "id": "kzrMAeVgvL2h"
      },
      "execution_count": 28,
      "outputs": []
    },
    {
      "cell_type": "code",
      "source": [
        "average_emissions"
      ],
      "metadata": {
        "colab": {
          "base_uri": "https://localhost:8080/"
        },
        "id": "gcW7yEqivMcS",
        "outputId": "c829945b-af4d-4bb1-bf6d-07f03582c320"
      },
      "execution_count": null,
      "outputs": [
        {
          "output_type": "execute_result",
          "data": {
            "text/plain": [
              "[('1960', 2.0441783908177085),\n",
              " ('1961', 2.157479864538861),\n",
              " ('1962', 2.2488049222051276),\n",
              " ('1963', 2.7634205084285703),\n",
              " ('1964', 2.912680068142856),\n",
              " ('1965', 3.0316694686896533),\n",
              " ('1966', 3.0446996531970454),\n",
              " ('1967', 3.111186310413793),\n",
              " ('1968', 3.309332967596057),\n",
              " ('1969', 3.9191244998226593),\n",
              " ('1970', 4.197480374409761),\n",
              " ('1971', 4.421934022213595),\n",
              " ('1972', 4.488119374057692),\n",
              " ('1973', 4.805842462769229),\n",
              " ('1974', 4.499457508288458),\n",
              " ('1975', 4.366105995028844),\n",
              " ('1976', 4.3566088581490385),\n",
              " ('1977', 4.486631686408652),\n",
              " ('1978', 4.511017135326925),\n",
              " ('1979', 4.56301375180288),\n",
              " ('1980', 4.464373396841345),\n",
              " ('1981', 3.9935487841105752),\n",
              " ('1982', 3.872467809014423),\n",
              " ('1983', 3.726820254807689),\n",
              " ('1984', 3.8243866911634634),\n",
              " ('1985', 3.917695550951922),\n",
              " ('1986', 3.90544671704306),\n",
              " ('1987', 3.9426031941578925),\n",
              " ('1988', 4.077311975177032),\n",
              " ('1989', 4.213261544602872),\n",
              " ('1990', 4.082445945293023),\n",
              " ('1991', 4.12124666359447),\n",
              " ('1992', 4.479572514066392),\n",
              " ('1993', 4.502859006871367),\n",
              " ('1994', 4.424655464789256),\n",
              " ('1995', 4.474822216555554),\n",
              " ('1996', 4.49404976384362),\n",
              " ('1997', 4.4923564963893465),\n",
              " ('1998', 4.482341602204084),\n",
              " ('1999', 4.45007266436735),\n",
              " ('2000', 4.5787572154367355),\n",
              " ('2001', 4.631754758122448),\n",
              " ('2002', 4.598493646569104),\n",
              " ('2003', 4.730172571195122),\n",
              " ('2004', 4.777434844158535),\n",
              " ('2005', 4.82138487608907),\n",
              " ('2006', 4.899786316879033),\n",
              " ('2007', 4.930891345710842),\n",
              " ('2008', 4.936829229128514),\n",
              " ('2009', 4.722804110947789),\n",
              " ('2010', 4.845600978903612),\n",
              " ('2011', 4.806688992056226),\n",
              " ('2012', 4.949244606936254),\n",
              " ('2013', 4.8625763527529875),\n",
              " ('2014', 4.874891866776002)]"
            ]
          },
          "metadata": {},
          "execution_count": 41
        }
      ]
    },
    {
      "cell_type": "code",
      "source": [
        "# Convert the lists into DataFrames\n",
        "average_temp_df = spark.createDataFrame(temp_diff_list, schema=['year', 'temp_diff'])\n",
        "average_emissions_df = spark.createDataFrame(average_emissions, schema=['year', 'average_emissions'])\n",
        "\n",
        "# Join the DataFrames on the year column\n",
        "merged_data = average_temp_df.join(average_emissions_df, \"year\")\n",
        "\n",
        "# Calculate the Pearson correlation coefficient between average_temp and average_emissions\n",
        "correlation = merged_data.stat.corr('temp_diff', 'average_emissions')\n",
        "print(f\"The correlation coefficient between average temperature and CO2 emissions is: {correlation}\")"
      ],
      "metadata": {
        "colab": {
          "base_uri": "https://localhost:8080/"
        },
        "id": "xen9CtGMvPBt",
        "outputId": "5d256f38-6457-4bcb-ec22-55da573a857b"
      },
      "execution_count": 29,
      "outputs": [
        {
          "output_type": "stream",
          "name": "stdout",
          "text": [
            "The correlation coefficient between average temperature and CO2 emissions is: -0.015756138801512273\n"
          ]
        }
      ]
    }
  ]
}